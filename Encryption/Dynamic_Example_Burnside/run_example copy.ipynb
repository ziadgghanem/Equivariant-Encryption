{
 "cells": [
  {
   "cell_type": "code",
   "execution_count": 1,
   "metadata": {},
   "outputs": [],
   "source": [
    "import numpy as np\n",
    "import json\n",
    "import os"
   ]
  },
  {
   "cell_type": "code",
   "execution_count": 4,
   "metadata": {},
   "outputs": [
    {
     "name": "stdout",
     "output_type": "stream",
     "text": [
      "Number of conjugacy classes: 33\n",
      "Number of multipliers: 9\n"
     ]
    }
   ],
   "source": [
    "# read multiplication table file\n",
    "# Windows infile\n",
    "#infile = [np.asarray(json.loads(line)) for line in open(os.path.abspath(os.pardir) + '\\z2_s4_001.json', 'r')]\n",
    "# OS infile\n",
    "infile = [np.asarray(json.loads(line)) for line in open(os.path.abspath(os.pardir) + '/z2_s4_001.json', 'r')]\n",
    "mixer_index = infile[0]\n",
    "M = infile[1] #multipliers\n",
    "T = infile[2] #multiplication table\n",
    "\n",
    "assert T.shape[0] == T.shape[1] == T.shape[2]\n",
    "len_T = T.shape[0]\n",
    "print(\"Number of conjugacy classes: {}\" .format(len_T))\n",
    "\n",
    "\n",
    "assert M.shape[1] == len_T\n",
    "len_M = M.shape[0]\n",
    "print(\"Number of multipliers: {}\" .format(len_M))\n",
    "\n",
    "#print(\"Multiplier Indices: {}\" .format(M))"
   ]
  },
  {
   "cell_type": "code",
   "execution_count": 5,
   "metadata": {},
   "outputs": [],
   "source": [
    "# Convert multplication table from 3D array of integers to 3D list of bin\n",
    "def array_to_list(X):\n",
    "    return X.tolist()\n",
    "\n",
    "M1 = array_to_list(M)\n",
    "T1 = array_to_list(T)"
   ]
  },
  {
   "cell_type": "code",
   "execution_count": 38,
   "metadata": {},
   "outputs": [],
   "source": [
    "nbytes = 2\n",
    "PAD = '0'\n",
    "\n",
    "def pad_string(m, len_T, PAD):\n",
    "    pad_length = (len_T - len(m) % len_T)\n",
    "    pad = PAD*pad_length\n",
    "    return m + pad, pad_length\n",
    "\n",
    "def string_to_byte_sequence(m, nbytes):\n",
    "    #convert string to binary sequence\n",
    "    #print(bin_version)\n",
    "    return ''.join(format(ord(i), '08b') for i in m)\n",
    "\n",
    "def byte_sequence_chunk(m, nbytes):\n",
    "    #seperate byte sequence into list of 'chunks' of length 'bits_per_coefficient'\n",
    "    bits_per_coefficient = nbytes * 2\n",
    "    res = []\n",
    "    for start in range(0, len(m), bits_per_coefficient):\n",
    "        res.append(m[start:start + bits_per_coefficient])\n",
    "    return res\n",
    "\n",
    "def byte_sequence_to_binary_sequence(m):\n",
    "    #interpret each byte chunk as binary integer \n",
    "    return [int(e,2) for e in m]\n",
    "\n",
    "def binary_sequence_block(m, len_T):\n",
    "    #seperate chunks into blocks of length 'len_T'\n",
    "    return [m[i:i + len_T] for i in range(0, len(m), len_T)]\n",
    "\n",
    "def binary_sequence_block_to_byte_sequence(m, nbytes):\n",
    "    res = ''\n",
    "    chunk_size = nbytes*2\n",
    "    for i in range(len(m)):\n",
    "        for j in range(len(m[i])):\n",
    "            byte = str(bin(m[i][j])[2:].zfill(chunk_size))\n",
    "            res += byte\n",
    "    return res\n",
    "\n",
    "def byte_to_pad_string(m):\n",
    "    return ''.join(chr(int(m[i*8:i*8+8],2)) for i in range(len(m)//8))\n",
    "\n",
    "def unpad_string(m, pad_length):\n",
    "    return m[:len(m)-pad_length]\n",
    "    "
   ]
  },
  {
   "cell_type": "code",
   "execution_count": 39,
   "metadata": {},
   "outputs": [
    {
     "name": "stdout",
     "output_type": "stream",
     "text": [
      "String: abcdefg; Length: 7\n",
      "Padded String: abcdefg00000000000000000000000000; Length: 33\n",
      "Pad Length: 26\n",
      "Byte Sequence: 011000010110001001100011011001000110010101100110011001110011000000110000001100000011000000110000001100000011000000110000001100000011000000110000001100000011000000110000001100000011000000110000001100000011000000110000001100000011000000110000001100000011000000110000; Length: 264\n",
      "Byte Sequence Chunks: ['0110', '0001', '0110', '0010', '0110', '0011', '0110', '0100', '0110', '0101', '0110', '0110', '0110', '0111', '0011', '0000', '0011', '0000', '0011', '0000', '0011', '0000', '0011', '0000', '0011', '0000', '0011', '0000', '0011', '0000', '0011', '0000', '0011', '0000', '0011', '0000', '0011', '0000', '0011', '0000', '0011', '0000', '0011', '0000', '0011', '0000', '0011', '0000', '0011', '0000', '0011', '0000', '0011', '0000', '0011', '0000', '0011', '0000', '0011', '0000', '0011', '0000', '0011', '0000', '0011', '0000']\n",
      "Binary Sequence: [6, 1, 6, 2, 6, 3, 6, 4, 6, 5, 6, 6, 6, 7, 3, 0, 3, 0, 3, 0, 3, 0, 3, 0, 3, 0, 3, 0, 3, 0, 3, 0, 3, 0, 3, 0, 3, 0, 3, 0, 3, 0, 3, 0, 3, 0, 3, 0, 3, 0, 3, 0, 3, 0, 3, 0, 3, 0, 3, 0, 3, 0, 3, 0, 3, 0]\n",
      "Binary Sequence Blocks: [[6, 1, 6, 2, 6, 3, 6, 4, 6, 5, 6, 6, 6, 7, 3, 0, 3, 0, 3, 0, 3, 0, 3, 0, 3, 0, 3, 0, 3, 0, 3, 0, 3], [0, 3, 0, 3, 0, 3, 0, 3, 0, 3, 0, 3, 0, 3, 0, 3, 0, 3, 0, 3, 0, 3, 0, 3, 0, 3, 0, 3, 0, 3, 0, 3, 0]]\n",
      "Byte Sequence: 011000010110001001100011011001000110010101100110011001110011000000110000001100000011000000110000001100000011000000110000001100000011000000110000001100000011000000110000001100000011000000110000001100000011000000110000001100000011000000110000001100000011000000110000; Length: 264\n",
      "Reconstructed Padded String: abcdefg00000000000000000000000000\n",
      "Reconstructed String: abcdefg\n"
     ]
    }
   ],
   "source": [
    "# Demonstration\n",
    "m = 'abcdefg'\n",
    "print(\"String: %s; Length: %s\" % (m, len(m)))\n",
    "m1, pad_length = pad_string(m, len_T, PAD)\n",
    "print(\"Padded String: %s; Length: %s\" % (m1, len(m1)))\n",
    "print(\"Pad Length: %s\" % (pad_length))\n",
    "m2 = string_to_byte_sequence(m1, nbytes)\n",
    "print(\"Byte Sequence: %s; Length: %s\" % (m2, len(m2)))\n",
    "m3 = byte_sequence_chunk(m2, nbytes)\n",
    "print(\"Byte Sequence Chunks: %s\" % (m3))\n",
    "m4 = byte_sequence_to_binary_sequence(m3)\n",
    "print(\"Binary Sequence: %s\" % (m4))\n",
    "m5 = binary_sequence_block(m4, len_T)\n",
    "print(\"Binary Sequence Blocks: %s\" % (m5))\n",
    "m6 = binary_sequence_block_to_byte_sequence(m5, nbytes)\n",
    "print(\"Byte Sequence: %s; Length: %s\" % (m6, len(m6)))\n",
    "m7 = byte_to_pad_string(m6)\n",
    "print(\"Reconstructed Padded String: %s\" % (m7))\n",
    "m8 = unpad_string(m7, pad_length)\n",
    "print(\"Reconstructed String: %s\" % (m8))"
   ]
  },
  {
   "cell_type": "code",
   "execution_count": null,
   "metadata": {},
   "outputs": [],
   "source": [
    "m1[:]"
   ]
  },
  {
   "cell_type": "code",
   "execution_count": 8,
   "metadata": {},
   "outputs": [
    {
     "name": "stdout",
     "output_type": "stream",
     "text": [
      "String: abcdefg; Length: 7\n",
      "Padded String: abcdefg00000000000000000000000000; Length: 33\n",
      "Byte Sequence: 011000010110001001100011011001000110010101100110011001110011000000110000001100000011000000110000001100000011000000110000001100000011000000110000001100000011000000110000001100000011000000110000001100000011000000110000001100000011000000110000001100000011000000110000; Length: 264\n",
      "Binary Sequence: [['0b110', '0b1', '0b110', '0b10', '0b110', '0b11', '0b110', '0b100', '0b110', '0b101', '0b110', '0b110', '0b110', '0b111', '0b11', '0b0', '0b11', '0b0', '0b11', '0b0', '0b11', '0b0', '0b11', '0b0', '0b11', '0b0', '0b11', '0b0', '0b11', '0b0', '0b11', '0b0', '0b11'], ['0b0', '0b11', '0b0', '0b11', '0b0', '0b11', '0b0', '0b11', '0b0', '0b11', '0b0', '0b11', '0b0', '0b11', '0b0', '0b11', '0b0', '0b11', '0b0', '0b11', '0b0', '0b11', '0b0', '0b11', '0b0', '0b11', '0b0', '0b11', '0b0', '0b11', '0b0', '0b11', '0b0']]\n",
      "Byte Sequence: 011000010110001001100011011001000110010101100110011001110011000000110000001100000011000000110000001100000011000000110000001100000011000000110000001100000011000000110000001100000011000000110000001100000011000000110000001100000011000000110000001100000011000000110000\n",
      "Reconstructed String: abcdefg00000000000000000000000000\n"
     ]
    }
   ],
   "source": [
    "# Demonstration\n",
    "m = 'abcdefg'\n",
    "print(\"String: %s; Length: %s\" % (m, len(m)))\n",
    "m1 = pad_string(m, len_T, PAD)\n",
    "print(\"Padded String: %s; Length: %s\" % (m1, len(m1)))\n",
    "m2 = string_to_byte(m1, nbytes)\n",
    "print(\"Byte Sequence: %s; Length: %s\" % (m2, len(m2)))\n",
    "m3 = byte_to_binary(m2, len_T, nbytes)\n",
    "print(\"Binary Sequence: %s\" % (m3))\n",
    "m4 = binary_to_byte(m3, nbytes)\n",
    "print(\"Byte Sequence: %s\" % (m4))\n",
    "m5 = byte_to_string(m4)\n",
    "print(\"Reconstructed Padded String: %s\" % (m5))"
   ]
  },
  {
   "cell_type": "code",
   "execution_count": 96,
   "metadata": {},
   "outputs": [],
   "source": [
    "def brmult_list(T, L, sel = \"none\"):\n",
    "    if sel == \"none\":\n",
    "        pass\n",
    "    else:\n",
    "        L = L[sel,:]\n",
    "        \n",
    "    for l in L:\n",
    "        if all(l == L[0]): # initialize product\n",
    "            chi = l\n",
    "        else:\n",
    "            temp = np.zeros(len(l))\n",
    "            for i in range(len(l)):\n",
    "                for j in range(len(l)):\n",
    "                    temp+= chi[i]*l[j]*T[i][j]\n",
    "            chi = temp\n",
    "            #print(\"-------------------------------------------------------------\")\n",
    "            #print(chi) \n",
    "    return chi"
   ]
  },
  {
   "cell_type": "code",
   "execution_count": 97,
   "metadata": {},
   "outputs": [
    {
     "name": "stdout",
     "output_type": "stream",
     "text": [
      "[array([ 110,    1,  110,   10,  110,   11,  110,  100,  110,  101,  110,\n",
      "        110,  110,  111,  110, 1000,  110, 1001,  110, 1010,  110, 1011,\n",
      "        110, 1100,  110, 1101,  110, 1110,  110, 1111,  111,    0,  111]), array([  2,   2,   2,   2,   2,   2,   2,   2,   2,   2,   2,   2,   2,\n",
      "         2,   2,   2,   2,   2,   2,   2,   2,   2,   2,   2,   2,   2,\n",
      "         2,   2,   1, 111,  10, 111,  11])]\n"
     ]
    }
   ],
   "source": [
    "msg = \"abcdefghijklmnopqrs\"\n",
    "msg_utf = encode_msg(msg, len_T)\n",
    "print(msg_utf)"
   ]
  },
  {
   "cell_type": "code",
   "execution_count": 103,
   "metadata": {},
   "outputs": [
    {
     "data": {
      "text/plain": [
       "'01100001011000100110001101100100011001010110011001100111011010000110100101101010011010110110110001101101011011100110111101110000011100010111001001110011'"
      ]
     },
     "execution_count": 103,
     "metadata": {},
     "output_type": "execute_result"
    }
   ],
   "source": [
    "bin_msg = ''.join(format(ord(i), '08b') for i in msg)\n",
    "bin_msg\n",
    "#''.join(chr(int(msg[i*8:i*8+8]),2) for i in range(len(msg)//8))"
   ]
  },
  {
   "cell_type": "code",
   "execution_count": null,
   "metadata": {},
   "outputs": [],
   "source": [
    "def to_bytestr(m, nbytes =2):\n",
    "    return ''.join(chr(int(m[i*8:i*8+8]),2) for i in range(len(m)//8))"
   ]
  },
  {
   "cell_type": "code",
   "execution_count": 98,
   "metadata": {},
   "outputs": [
    {
     "name": "stdout",
     "output_type": "stream",
     "text": [
      "[array([ 2.222e+03, -1.333e+03,  3.654e+03, -1.010e+03, -2.442e+03,\n",
      "       -2.343e+03, -2.210e+02, -2.432e+03, -2.210e+02, -1.533e+03,\n",
      "       -1.452e+03, -1.541e+03, -2.532e+03,  2.553e+03, -2.443e+03,\n",
      "        1.000e+03,  1.000e+00, -8.900e+02,  1.000e+00, -8.990e+02,\n",
      "        1.000e+00,  1.232e+03,  3.310e+02,  1.321e+03,  1.000e+00,\n",
      "        1.322e+03,  1.000e+00, -1.332e+03, -3.320e+02, -1.222e+03,\n",
      "       -2.220e+02, -1.110e+02,  1.110e+02]), array([  15.,  -17.,   30.,   -4.,  -19.,  -19.,  -13.,  -18.,  -13.,\n",
      "        -18.,  -18.,  -18.,  -18.,   28.,  -18.,    2.,    9.,    9.,\n",
      "          9.,    9.,    9.,   14.,   14.,   14.,    9.,   14.,    9.,\n",
      "        -24.,  -23., -122.,  -21., -122.,   11.])]\n"
     ]
    }
   ],
   "source": [
    "multiplier = brmult_list(T,M)\n",
    "encryption = [brmult_list(T,[e,multiplier]) for e in msg_utf]\n",
    "#encryption = brmult_list(T,[msg_utf,multiplier])\n",
    "print(encryption)"
   ]
  },
  {
   "cell_type": "code",
   "execution_count": 99,
   "metadata": {},
   "outputs": [
    {
     "name": "stdout",
     "output_type": "stream",
     "text": [
      "[array([ 110,    1,  110,   10,  110,   11,  110,  100,  110,  101,  110,\n",
      "        110,  110,  111,  110, 1000,  110, 1001,  110, 1010,  110, 1011,\n",
      "        110, 1100,  110, 1101,  110, 1110,  110, 1111,  111,    0,  111]), array([  2,   2,   2,   2,   2,   2,   2,   2,   2,   2,   2,   2,   2,\n",
      "         2,   2,   2,   2,   2,   2,   2,   2,   2,   2,   2,   2,   2,\n",
      "         2,   2,   1, 111,  10, 111,  11])]\n"
     ]
    }
   ],
   "source": [
    "decryption = [brmult_list(T,[e,multiplier]).astype(int) for e in encryption]\n",
    "print(decryption)\n"
   ]
  },
  {
   "cell_type": "code",
   "execution_count": 93,
   "metadata": {},
   "outputs": [],
   "source": [
    "def to_bytestr(m, nbytes =2):\n",
    "    return ''.join(chr(m[i*8:i*8+8],2 for i in range(len(m)//8))"
   ]
  },
  {
   "cell_type": "code",
   "execution_count": 94,
   "metadata": {},
   "outputs": [
    {
     "ename": "TypeError",
     "evalue": "chr() takes exactly one argument (2 given)",
     "output_type": "error",
     "traceback": [
      "\u001b[1;31m---------------------------------------------------------------------------\u001b[0m",
      "\u001b[1;31mTypeError\u001b[0m                                 Traceback (most recent call last)",
      "\u001b[1;32m<ipython-input-94-92f7a6c893f0>\u001b[0m in \u001b[0;36m<module>\u001b[1;34m\u001b[0m\n\u001b[1;32m----> 1\u001b[1;33m \u001b[0mmsg_rec\u001b[0m \u001b[1;33m=\u001b[0m \u001b[0mto_bytestr\u001b[0m\u001b[1;33m(\u001b[0m\u001b[0mdecryption\u001b[0m\u001b[1;33m[\u001b[0m\u001b[1;36m0\u001b[0m\u001b[1;33m]\u001b[0m\u001b[1;33m)\u001b[0m\u001b[1;33m\u001b[0m\u001b[1;33m\u001b[0m\u001b[0m\n\u001b[0m",
      "\u001b[1;32m<ipython-input-93-3d6d609a057a>\u001b[0m in \u001b[0;36mto_bytestr\u001b[1;34m(m, nbytes)\u001b[0m\n\u001b[0;32m      1\u001b[0m \u001b[1;32mdef\u001b[0m \u001b[0mto_bytestr\u001b[0m\u001b[1;33m(\u001b[0m\u001b[0mm\u001b[0m\u001b[1;33m,\u001b[0m \u001b[0mnbytes\u001b[0m \u001b[1;33m=\u001b[0m\u001b[1;36m2\u001b[0m\u001b[1;33m)\u001b[0m\u001b[1;33m:\u001b[0m\u001b[1;33m\u001b[0m\u001b[1;33m\u001b[0m\u001b[0m\n\u001b[1;32m----> 2\u001b[1;33m     \u001b[1;32mreturn\u001b[0m \u001b[1;34m''\u001b[0m\u001b[1;33m.\u001b[0m\u001b[0mjoin\u001b[0m\u001b[1;33m(\u001b[0m\u001b[0mchr\u001b[0m\u001b[1;33m(\u001b[0m\u001b[0mm\u001b[0m\u001b[1;33m[\u001b[0m\u001b[0mi\u001b[0m\u001b[1;33m*\u001b[0m\u001b[1;36m8\u001b[0m\u001b[1;33m:\u001b[0m\u001b[0mi\u001b[0m\u001b[1;33m*\u001b[0m\u001b[1;36m8\u001b[0m\u001b[1;33m+\u001b[0m\u001b[1;36m8\u001b[0m\u001b[1;33m]\u001b[0m\u001b[1;33m,\u001b[0m\u001b[1;36m2\u001b[0m\u001b[1;33m)\u001b[0m \u001b[1;32mfor\u001b[0m \u001b[0mi\u001b[0m \u001b[1;32min\u001b[0m \u001b[0mrange\u001b[0m\u001b[1;33m(\u001b[0m\u001b[0mlen\u001b[0m\u001b[1;33m(\u001b[0m\u001b[0mm\u001b[0m\u001b[1;33m)\u001b[0m\u001b[1;33m//\u001b[0m\u001b[1;36m8\u001b[0m\u001b[1;33m)\u001b[0m\u001b[1;33m)\u001b[0m\u001b[1;33m\u001b[0m\u001b[1;33m\u001b[0m\u001b[0m\n\u001b[0m",
      "\u001b[1;32m<ipython-input-93-3d6d609a057a>\u001b[0m in \u001b[0;36m<genexpr>\u001b[1;34m(.0)\u001b[0m\n\u001b[0;32m      1\u001b[0m \u001b[1;32mdef\u001b[0m \u001b[0mto_bytestr\u001b[0m\u001b[1;33m(\u001b[0m\u001b[0mm\u001b[0m\u001b[1;33m,\u001b[0m \u001b[0mnbytes\u001b[0m \u001b[1;33m=\u001b[0m\u001b[1;36m2\u001b[0m\u001b[1;33m)\u001b[0m\u001b[1;33m:\u001b[0m\u001b[1;33m\u001b[0m\u001b[1;33m\u001b[0m\u001b[0m\n\u001b[1;32m----> 2\u001b[1;33m     \u001b[1;32mreturn\u001b[0m \u001b[1;34m''\u001b[0m\u001b[1;33m.\u001b[0m\u001b[0mjoin\u001b[0m\u001b[1;33m(\u001b[0m\u001b[0mchr\u001b[0m\u001b[1;33m(\u001b[0m\u001b[0mm\u001b[0m\u001b[1;33m[\u001b[0m\u001b[0mi\u001b[0m\u001b[1;33m*\u001b[0m\u001b[1;36m8\u001b[0m\u001b[1;33m:\u001b[0m\u001b[0mi\u001b[0m\u001b[1;33m*\u001b[0m\u001b[1;36m8\u001b[0m\u001b[1;33m+\u001b[0m\u001b[1;36m8\u001b[0m\u001b[1;33m]\u001b[0m\u001b[1;33m,\u001b[0m\u001b[1;36m2\u001b[0m\u001b[1;33m)\u001b[0m \u001b[1;32mfor\u001b[0m \u001b[0mi\u001b[0m \u001b[1;32min\u001b[0m \u001b[0mrange\u001b[0m\u001b[1;33m(\u001b[0m\u001b[0mlen\u001b[0m\u001b[1;33m(\u001b[0m\u001b[0mm\u001b[0m\u001b[1;33m)\u001b[0m\u001b[1;33m//\u001b[0m\u001b[1;36m8\u001b[0m\u001b[1;33m)\u001b[0m\u001b[1;33m)\u001b[0m\u001b[1;33m\u001b[0m\u001b[1;33m\u001b[0m\u001b[0m\n\u001b[0m",
      "\u001b[1;31mTypeError\u001b[0m: chr() takes exactly one argument (2 given)"
     ]
    }
   ],
   "source": [
    "msg_rec = to_bytestr(decryption[0])"
   ]
  },
  {
   "cell_type": "code",
   "execution_count": null,
   "metadata": {},
   "outputs": [],
   "source": []
  }
 ],
 "metadata": {
  "kernelspec": {
   "display_name": "Python 3.8.8 ('base')",
   "language": "python",
   "name": "python3"
  },
  "language_info": {
   "codemirror_mode": {
    "name": "ipython",
    "version": 3
   },
   "file_extension": ".py",
   "mimetype": "text/x-python",
   "name": "python",
   "nbconvert_exporter": "python",
   "pygments_lexer": "ipython3",
   "version": "3.9.12"
  },
  "orig_nbformat": 4,
  "vscode": {
   "interpreter": {
    "hash": "bb38ba4e813f735698b935dc80e7db08ebd90d12ce9a90d24b2a53bbd027fc6c"
   }
  }
 },
 "nbformat": 4,
 "nbformat_minor": 2
}
