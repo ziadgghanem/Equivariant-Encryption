{
 "cells": [
  {
   "cell_type": "code",
   "execution_count": 1,
   "metadata": {},
   "outputs": [],
   "source": [
    "import numpy as np\n",
    "import json\n",
    "import os"
   ]
  },
  {
   "cell_type": "code",
   "execution_count": 2,
   "metadata": {},
   "outputs": [
    {
     "name": "stdout",
     "output_type": "stream",
     "text": [
      "Number of conjugacy classes: 33\n",
      "Number of multipliers: 9\n"
     ]
    }
   ],
   "source": [
    "# read multiplication table file\n",
    "# Windows infile\n",
    "#infile = [np.asarray(json.loads(line)) for line in open(os.path.abspath(os.pardir) + '\\z2_s4_001.json', 'r')]\n",
    "# OS infile\n",
    "infile = [np.asarray(json.loads(line)) for line in open(os.path.abspath(os.pardir) + '/z2_s4_001.json', 'r')]\n",
    "mixer_index = infile[0]\n",
    "M = infile[1] #multipliers\n",
    "T = infile[2] #multiplication table\n",
    "\n",
    "assert T.shape[0] == T.shape[1] == T.shape[2]\n",
    "len_T = T.shape[0]\n",
    "print(\"Number of conjugacy classes: {}\" .format(len_T))\n",
    "\n",
    "\n",
    "assert M.shape[1] == len_T\n",
    "len_M = M.shape[0]\n",
    "print(\"Number of multipliers: {}\" .format(len_M))\n",
    "\n",
    "#print(\"Multiplier Indices: {}\" .format(M))"
   ]
  },
  {
   "cell_type": "code",
   "execution_count": 3,
   "metadata": {},
   "outputs": [],
   "source": [
    "# Convert multplication table from 3D array of integers to 3D list of bin\n",
    "def array_to_list(X):\n",
    "    return X.tolist()\n",
    "\n",
    "M = M.astype(int).tolist()\n",
    "T = T.astype(int)"
   ]
  },
  {
   "cell_type": "code",
   "execution_count": 4,
   "metadata": {},
   "outputs": [],
   "source": [
    "nbytes = 2\n",
    "PAD = '0'\n",
    "\n",
    "def pad_string(m, len_T, PAD):\n",
    "    pad_length = (len_T - len(m) % len_T)\n",
    "    pad = PAD*pad_length\n",
    "    return m + pad, pad_length\n",
    "\n",
    "def string_to_byte_sequence(m, nbytes):\n",
    "    #convert string to binary sequence\n",
    "    #print(bin_version)\n",
    "    return ''.join(format(ord(i), '08b') for i in m)\n",
    "\n",
    "def byte_sequence_chunk(m, nbytes):\n",
    "    #seperate byte sequence into list of 'chunks' of length 'bits_per_coefficient'\n",
    "    bits_per_coefficient = nbytes * 2\n",
    "    res = []\n",
    "    for start in range(0, len(m), bits_per_coefficient):\n",
    "        res.append(m[start:start + bits_per_coefficient])\n",
    "    return res\n",
    "\n",
    "def byte_sequence_to_binary_sequence(m):\n",
    "    #interpret each byte chunk as binary integer \n",
    "    return [int(e,2) for e in m]\n",
    "\n",
    "def binary_block_sequence(m, len_T):\n",
    "    #seperate chunks into blocks of length 'len_T'\n",
    "    return [m[i:i + len_T] for i in range(0, len(m), len_T)]\n",
    "\n",
    "def binary_block_sequence_to_byte_sequence(m, nbytes):\n",
    "    res = ''\n",
    "    chunk_size = nbytes*2\n",
    "    for i in range(len(m)):\n",
    "        for j in range(len(m[i])):\n",
    "            byte = str(bin(m[i][j])[2:].zfill(chunk_size))\n",
    "            res += byte\n",
    "    return res\n",
    "\n",
    "def byte_to_pad_string(m):\n",
    "    return ''.join(chr(int(m[i*8:i*8+8],2)) for i in range(len(m)//8))\n",
    "\n",
    "def unpad_string(m, pad_length):\n",
    "    return m[:len(m)-pad_length]\n",
    "    "
   ]
  },
  {
   "cell_type": "code",
   "execution_count": 5,
   "metadata": {},
   "outputs": [],
   "source": [
    "def string_to_bring(m, len_T, nbytes = 2, PAD = '0'):\n",
    "    m1, pad_length = pad_string(m, len_T, PAD)\n",
    "    m2 = string_to_byte_sequence(m1, nbytes)\n",
    "    m3 = byte_sequence_chunk(m2, nbytes)\n",
    "    m4 = byte_sequence_to_binary_sequence(m3)\n",
    "    m5 = binary_block_sequence(m4, len_T)\n",
    "    return m5, pad_length\n",
    "\n",
    "def bring_to_string(m, len_T, pad_length, nbytes = 2, PAD = '0'):\n",
    "    m1 = binary_block_sequence_to_byte_sequence(m, nbytes)\n",
    "    m2 = byte_to_pad_string(m1)\n",
    "    m3 = unpad_string(m2, pad_length)\n",
    "    return m3"
   ]
  },
  {
   "cell_type": "code",
   "execution_count": 39,
   "metadata": {},
   "outputs": [
    {
     "name": "stdout",
     "output_type": "stream",
     "text": [
      "String: abcdefg; Length: 7\n",
      "Padded String: abcdefg00000000000000000000000000; Length: 33\n",
      "Pad Length: 26\n",
      "Byte Sequence: 011000010110001001100011011001000110010101100110011001110011000000110000001100000011000000110000001100000011000000110000001100000011000000110000001100000011000000110000001100000011000000110000001100000011000000110000001100000011000000110000001100000011000000110000; Length: 264\n",
      "Byte Sequence Chunks: ['0110', '0001', '0110', '0010', '0110', '0011', '0110', '0100', '0110', '0101', '0110', '0110', '0110', '0111', '0011', '0000', '0011', '0000', '0011', '0000', '0011', '0000', '0011', '0000', '0011', '0000', '0011', '0000', '0011', '0000', '0011', '0000', '0011', '0000', '0011', '0000', '0011', '0000', '0011', '0000', '0011', '0000', '0011', '0000', '0011', '0000', '0011', '0000', '0011', '0000', '0011', '0000', '0011', '0000', '0011', '0000', '0011', '0000', '0011', '0000', '0011', '0000', '0011', '0000', '0011', '0000']\n",
      "Binary Sequence: [6, 1, 6, 2, 6, 3, 6, 4, 6, 5, 6, 6, 6, 7, 3, 0, 3, 0, 3, 0, 3, 0, 3, 0, 3, 0, 3, 0, 3, 0, 3, 0, 3, 0, 3, 0, 3, 0, 3, 0, 3, 0, 3, 0, 3, 0, 3, 0, 3, 0, 3, 0, 3, 0, 3, 0, 3, 0, 3, 0, 3, 0, 3, 0, 3, 0]\n",
      "Binary Sequence Blocks: [[6, 1, 6, 2, 6, 3, 6, 4, 6, 5, 6, 6, 6, 7, 3, 0, 3, 0, 3, 0, 3, 0, 3, 0, 3, 0, 3, 0, 3, 0, 3, 0, 3], [0, 3, 0, 3, 0, 3, 0, 3, 0, 3, 0, 3, 0, 3, 0, 3, 0, 3, 0, 3, 0, 3, 0, 3, 0, 3, 0, 3, 0, 3, 0, 3, 0]]\n",
      "Byte Sequence: 011000010110001001100011011001000110010101100110011001110011000000110000001100000011000000110000001100000011000000110000001100000011000000110000001100000011000000110000001100000011000000110000001100000011000000110000001100000011000000110000001100000011000000110000; Length: 264\n",
      "Reconstructed Padded String: abcdefg00000000000000000000000000\n",
      "Reconstructed String: abcdefg\n"
     ]
    }
   ],
   "source": [
    "# Demonstration\n",
    "m = 'abcdefg'\n",
    "print(\"String: %s; Length: %s\" % (m, len(m)))\n",
    "m1, pad_length = pad_string(m, len_T, PAD)\n",
    "print(\"Padded String: %s; Length: %s\" % (m1, len(m1)))\n",
    "print(\"Pad Length: %s\" % (pad_length))\n",
    "m2 = string_to_byte_sequence(m1, nbytes)\n",
    "print(\"Byte Sequence: %s; Length: %s\" % (m2, len(m2)))\n",
    "m3 = byte_sequence_chunk(m2, nbytes)\n",
    "print(\"Byte Sequence Chunks: %s\" % (m3))\n",
    "m4 = byte_sequence_to_binary_sequence(m3)\n",
    "print(\"Binary Sequence: %s\" % (m4))\n",
    "m5 = binary_block_sequence(m4, len_T)\n",
    "print(\"Binary Sequence Blocks: %s\" % (m5))\n",
    "m6 = binary_block_sequence_to_byte_sequence(m5, nbytes)\n",
    "print(\"Byte Sequence: %s; Length: %s\" % (m6, len(m6)))\n",
    "m7 = byte_to_pad_string(m6)\n",
    "print(\"Reconstructed Padded String: %s\" % (m7))\n",
    "m8 = unpad_string(m7, pad_length)\n",
    "print(\"Reconstructed String: %s\" % (m8))"
   ]
  },
  {
   "cell_type": "code",
   "execution_count": 9,
   "metadata": {},
   "outputs": [],
   "source": [
    "def brmult_list(T, L, sel = \"none\"):\n",
    "    #L: ring elements to be multiplied\n",
    "    #T: multiplication table\n",
    "    if sel == \"none\":\n",
    "        pass\n",
    "    else:\n",
    "        L = L[sel,:]\n",
    "        \n",
    "    for l in L:\n",
    "        if l == L[0]: # initialize product\n",
    "            chi = l\n",
    "        else:\n",
    "            temp = np.zeros(len(l))\n",
    "            for i in range(len(l)):\n",
    "                for j in range(len(l)):\n",
    "                    # chi[i]*l[j] is the appropriate coefficient\n",
    "                    # T[i][j] is the appropriate ring element\n",
    "                    temp+= chi[i]*l[j]*T[i][j]\n",
    "            chi = temp\n",
    "            #print(\"-------------------------------------------------------------\")\n",
    "            #print(chi) \n",
    "    return chi.astype(int).tolist()"
   ]
  },
  {
   "cell_type": "code",
   "execution_count": 10,
   "metadata": {},
   "outputs": [
    {
     "name": "stdout",
     "output_type": "stream",
     "text": [
      "[[6, 1, 6, 2, 6, 3, 6, 4, 6, 5, 6, 6, 6, 7, 6, 8, 6, 9, 6, 10, 6, 11, 3, 0, 3, 0, 3, 0, 3, 0, 3, 0, 3], [0, 3, 0, 3, 0, 3, 0, 3, 0, 3, 0, 3, 0, 3, 0, 3, 0, 3, 0, 3, 0, 3, 0, 3, 0, 3, 0, 3, 0, 3, 0, 3, 0]]\n"
     ]
    }
   ],
   "source": [
    "msg = 'abcdefghijk'\n",
    "bring_msg, pad_length = string_to_bring(msg, len_T)\n",
    "print(bring_msg)"
   ]
  },
  {
   "cell_type": "code",
   "execution_count": 11,
   "metadata": {},
   "outputs": [
    {
     "name": "stdout",
     "output_type": "stream",
     "text": [
      "[1, -1, 2, 0, -1, -1, -1, -1, -1, -1, -1, -1, -1, 2, -1, 0, 1, 1, 1, 1, 1, 1, 1, 1, 1, 1, 1, -2, -2, -1, -1, -1, 1]\n"
     ]
    }
   ],
   "source": [
    "multiplier = brmult_list(T,M)\n",
    "print(multiplier)"
   ]
  },
  {
   "cell_type": "code",
   "execution_count": 15,
   "metadata": {},
   "outputs": [],
   "source": [
    "def bring_encryption(T,multiplier,m):\n",
    "    #T: Multiplication table\n",
    "    #multiplier: multiplier element in bring\n",
    "    #m: bring representation of msg\n",
    "    return [brmult_list(T,[e,multiplier]) for e in bring_msg]"
   ]
  },
  {
   "cell_type": "code",
   "execution_count": 16,
   "metadata": {},
   "outputs": [
    {
     "name": "stdout",
     "output_type": "stream",
     "text": [
      "[[6, 1, 6, 2, 6, 3, 6, 4, 6, 5, 6, 6, 6, 7, 6, 8, 6, 9, 6, 10, 6, 11, 3, 0, 3, 0, 3, 0, 3, 0, 3, 0, 3], [0, 3, 0, 3, 0, 3, 0, 3, 0, 3, 0, 3, 0, 3, 0, 3, 0, 3, 0, 3, 0, 3, 0, 3, 0, 3, 0, 3, 0, 3, 0, 3, 0]]\n",
      "[[12, -11, 20, -10, -24, -21, -9, -21, -9, -14, -26, -15, -12, 13, -23, 8, -3, -6, -3, -7, -3, 17, 9, 6, 0, 6, 0, -6, -9, -3, -6, -3, 3], [9, -9, 9, -6, -9, -12, 0, -9, 0, -6, -3, -6, -6, 9, -6, 3, 0, -3, 0, -3, 0, 3, 0, 3, 0, 3, 0, -3, 0, -3, 0, -3, 0]]\n"
     ]
    }
   ],
   "source": [
    "encrypted_bring_msg = bring_encryption(T, multiplier, bring_msg)\n",
    "print(bring_msg)\n",
    "print(encrypted_bring_msg)"
   ]
  },
  {
   "cell_type": "code",
   "execution_count": 19,
   "metadata": {},
   "outputs": [
    {
     "name": "stdout",
     "output_type": "stream",
     "text": [
      "[[6, 1, 6, 2, 6, 3, 6, 4, 6, 5, 6, 6, 6, 7, 6, 8, 6, 9, 6, 10, 6, 11, 3, 0, 3, 0, 3, 0, 3, 0, 3, 0, 3], [0, 3, 0, 3, 0, 3, 0, 3, 0, 3, 0, 3, 0, 3, 0, 3, 0, 3, 0, 3, 0, 3, 0, 3, 0, 3, 0, 3, 0, 3, 0, 3, 0]]\n"
     ]
    }
   ],
   "source": [
    "decrypted_bring_msg = [brmult_list(T,[e,multiplier]) for e in encrypted_bring_msg]\n",
    "print(decrypted_bring_msg)\n"
   ]
  },
  {
   "cell_type": "code",
   "execution_count": 21,
   "metadata": {},
   "outputs": [
    {
     "name": "stdout",
     "output_type": "stream",
     "text": [
      "abcdefghijk\n"
     ]
    }
   ],
   "source": [
    "reconstructed_msg = bring_to_string(decrypted_bring_msg, len_T, pad_length)\n",
    "print(reconstructed_msg)"
   ]
  }
 ],
 "metadata": {
  "kernelspec": {
   "display_name": "Python 3.8.8 ('base')",
   "language": "python",
   "name": "python3"
  },
  "language_info": {
   "codemirror_mode": {
    "name": "ipython",
    "version": 3
   },
   "file_extension": ".py",
   "mimetype": "text/x-python",
   "name": "python",
   "nbconvert_exporter": "python",
   "pygments_lexer": "ipython3",
   "version": "3.9.12"
  },
  "orig_nbformat": 4,
  "vscode": {
   "interpreter": {
    "hash": "bb38ba4e813f735698b935dc80e7db08ebd90d12ce9a90d24b2a53bbd027fc6c"
   }
  }
 },
 "nbformat": 4,
 "nbformat_minor": 2
}
