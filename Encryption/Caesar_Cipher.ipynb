{
 "cells": [
  {
   "cell_type": "code",
   "execution_count": 1,
   "id": "49920740",
   "metadata": {},
   "outputs": [],
   "source": [
    "alphabet = 'abcdefghijklmnopqrstuvwxyz'\n",
    "len_alphabet = len(alphabet)"
   ]
  },
  {
   "cell_type": "code",
   "execution_count": 2,
   "id": "a989ecd7",
   "metadata": {},
   "outputs": [
    {
     "name": "stdout",
     "output_type": "stream",
     "text": [
      "the deed is done\n",
      "my sentence has type: <class 'str'>\n",
      "['the', 'deed', 'is', 'done']\n",
      "my collection of words has type: <class 'list'>\n"
     ]
    }
   ],
   "source": [
    "sentence = 'the deed is done'\n",
    "print(sentence)\n",
    "print(\"my sentence has type:\", type(sentence))\n",
    "words = sentence.split()\n",
    "print(words)\n",
    "print(\"my collection of words has type:\", type(words))"
   ]
  },
  {
   "cell_type": "code",
   "execution_count": 3,
   "id": "dcd17477",
   "metadata": {},
   "outputs": [
    {
     "name": "stdout",
     "output_type": "stream",
     "text": [
      "my string has length: 4\n",
      "the first word in my string is: the\n"
     ]
    }
   ],
   "source": [
    "len_str = len(words)\n",
    "print(\"my string has length:\", len_str)\n",
    "print(\"the first word in my string is:\", words[0])"
   ]
  },
  {
   "cell_type": "code",
   "execution_count": 4,
   "id": "dcef1cbf",
   "metadata": {},
   "outputs": [
    {
     "name": "stdout",
     "output_type": "stream",
     "text": [
      "the --> ['t', 'h', 'e']\n"
     ]
    }
   ],
   "source": [
    "letters = [','.join(words[i]).split(',') for i in range(len_str)]\n",
    "print(words[0], \"-->\", letters[0])"
   ]
  },
  {
   "cell_type": "code",
   "execution_count": 5,
   "id": "2bcdae6e",
   "metadata": {},
   "outputs": [
    {
     "name": "stdout",
     "output_type": "stream",
     "text": [
      "['t', 'h', 'e'] --> [19, 7, 4]\n"
     ]
    }
   ],
   "source": [
    "indices = [[alphabet.index(letters[i][j]) for j in range(len(letters[i]))] for i in range(len_str)]\n",
    "len_ind = len_str\n",
    "print(letters[0], \"-->\", indices[0])"
   ]
  },
  {
   "cell_type": "code",
   "execution_count": 6,
   "id": "c5892ccd",
   "metadata": {},
   "outputs": [
    {
     "name": "stdout",
     "output_type": "stream",
     "text": [
      "[19, 7, 4] --> [3, 17, 14]\n"
     ]
    }
   ],
   "source": [
    "cycle = 10\n",
    "cypher_indices = [[(indices[i][j] + cycle)%len_alphabet for j in range((len(indices[i])))] for i in range(len_ind)]\n",
    "print(indices[0], \"-->\", cypher_indices[0])"
   ]
  },
  {
   "cell_type": "code",
   "execution_count": 7,
   "id": "e9b83a1b",
   "metadata": {},
   "outputs": [
    {
     "name": "stdout",
     "output_type": "stream",
     "text": [
      "[3, 17, 14] --> ['d', 'r', 'o']\n"
     ]
    }
   ],
   "source": [
    "cypher_letters = [[alphabet[cypher_indices[i][j]] for j in range(len(cypher_indices[i]))] for i in range(len_ind)]\n",
    "print(cypher_indices[0], \"-->\", cypher_letters[0])"
   ]
  },
  {
   "cell_type": "code",
   "execution_count": 8,
   "id": "8b9eff8d",
   "metadata": {},
   "outputs": [
    {
     "name": "stdout",
     "output_type": "stream",
     "text": [
      "['d', 'r', 'o'] --> dro\n"
     ]
    }
   ],
   "source": [
    "cypher_words = [''.join(cypher_letters[i]) for i in range(len_ind)]\n",
    "print(cypher_letters[0], \"-->\", cypher_words[0])"
   ]
  },
  {
   "cell_type": "code",
   "execution_count": 9,
   "id": "e71a543d",
   "metadata": {},
   "outputs": [
    {
     "name": "stdout",
     "output_type": "stream",
     "text": [
      "the deed is done --> dro noon sc nyxo\n"
     ]
    }
   ],
   "source": [
    "cypher_sentence = ' '.join(cypher_words)\n",
    "print(sentence, \"-->\", cypher_sentence)"
   ]
  },
  {
   "cell_type": "code",
   "execution_count": 41,
   "id": "d95e7a64",
   "metadata": {},
   "outputs": [],
   "source": [
    "def encoder(input_sentence):\n",
    "    cycle = 1\n",
    "    #assert isinstance(input_sentence, str)\n",
    "    ## preprocessing\n",
    "    words = input_sentence.split()\n",
    "    len_str = len(words)\n",
    "    letters = [','.join(words[i]).split(',') for i in range(len_str)]\n",
    "    indices = [[alphabet.index(letters[i][j]) for j in range(len(letters[i]))] for i in range(len_str)]\n",
    "    ## apply cypher\n",
    "    cypher_indices = [[(indices[i][j] + cycle)%len_alphabet for j in range((len(indices[i])))] for i in range(len_str)]\n",
    "    cypher_letters = [[alphabet[cypher_indices[i][j]] for j in range(len(cypher_indices[i]))] for i in range(len_str)]\n",
    "    cypher_words = [''.join(cypher_letters[i]) for i in range(len_str)]\n",
    "    cypher_sentence = ' '.join(cypher_words)\n",
    "    return cypher_sentence"
   ]
  },
  {
   "cell_type": "code",
   "execution_count": 44,
   "id": "57af3fac",
   "metadata": {},
   "outputs": [],
   "source": [
    "def decoder(enc_sentence, key = 10):\n",
    "    #assert isinstance(enc_sentence, str)\n",
    "    ## preprocessing\n",
    "    enc_words = enc_sentence.split()\n",
    "    len_str = len(enc_words)\n",
    "    enc_letters = [','.join(enc_words[i]).split(',') for i in range(len_str)]\n",
    "    enc_indices = [[alphabet.index(enc_letters[i][j]) for j in range(len(enc_letters[i]))] for i in range(len_str)]\n",
    "    ## apply reverse cypher\n",
    "    dec_indices = [[(enc_indices[i][j] - key)%len_alphabet for j in range((len(enc_indices[i])))] for i in range(len_str)]\n",
    "    dec_letters = [[alphabet[dec_indices[i][j]] for j in range(len(dec_indices[i]))] for i in range(len_str)]\n",
    "    dec_words = [''.join(dec_letters[i]) for i in range(len_str)]\n",
    "    dec_sentence = ' '.join(dec_words)\n",
    "    return dec_sentence"
   ]
  },
  {
   "cell_type": "code",
   "execution_count": 45,
   "id": "93accb9e",
   "metadata": {},
   "outputs": [
    {
     "name": "stdout",
     "output_type": "stream",
     "text": [
      "dro noon sc nyxo\n"
     ]
    },
    {
     "data": {
      "text/plain": [
       "'the deed is done'"
      ]
     },
     "execution_count": 45,
     "metadata": {},
     "output_type": "execute_result"
    }
   ],
   "source": [
    "print(cypher_sentence)\n",
    "decoder(cypher_sentence)"
   ]
  },
  {
   "cell_type": "code",
   "execution_count": null,
   "id": "f6f2ad68",
   "metadata": {},
   "outputs": [],
   "source": []
  },
  {
   "cell_type": "code",
   "execution_count": null,
   "id": "029e3ebc",
   "metadata": {},
   "outputs": [],
   "source": []
  }
 ],
 "metadata": {
  "kernelspec": {
   "display_name": "Python 3",
   "language": "python",
   "name": "python3"
  },
  "language_info": {
   "codemirror_mode": {
    "name": "ipython",
    "version": 3
   },
   "file_extension": ".py",
   "mimetype": "text/x-python",
   "name": "python",
   "nbconvert_exporter": "python",
   "pygments_lexer": "ipython3",
   "version": "3.8.8"
  }
 },
 "nbformat": 4,
 "nbformat_minor": 5
}
