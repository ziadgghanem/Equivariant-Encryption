{
 "cells": [
  {
   "cell_type": "code",
   "execution_count": null,
   "metadata": {},
   "outputs": [],
   "source": [
    "nbytes = 2\n",
    "PAD = '0'\n",
    "\n",
    "def pad_string(m, len_T, PAD):\n",
    "    pad = PAD*(len_T - len(m) % len_T)\n",
    "    return m + pad\n",
    "\n",
    "def string_to_byte(m, nbytes):\n",
    "    #convert string to binary sequence\n",
    "    #print(bin_version)\n",
    "    return ''.join(format(ord(i), '08b') for i in m)\n",
    "\n",
    "\n",
    "def byte_to_binary(m, len_T, nbytes):\n",
    "    #seperate byte sequence into list of 'chunks' of length 'bits_per_coefficient'\n",
    "    bits_per_coefficient = nbytes * 2\n",
    "    res = []\n",
    "    for start in range(0, len(m), bits_per_coefficient):\n",
    "        res.append(m[start:start + bits_per_coefficient])\n",
    "    res = [bin(int(e,2)) for e in res]\n",
    "    #seperate chunks into lists of length 'len_T'\n",
    "    return [res[i:i + len_T] for i in range(0, len(res), len_T)]\n",
    "\n",
    "def binary_to_int(m):\n",
    "    res = []\n",
    "    for i in range(len(m)):\n",
    "        res[i] = [int(e,2) for e in m[i]]\n",
    "    return res\n",
    "\n",
    "def binary_to_byte(m, nbytes):\n",
    "    res = ''\n",
    "    for i in range(len(m)):\n",
    "        for j in range(len(m[i])):\n",
    "            byte = m[i][j][2:].zfill(nbytes*2)\n",
    "            res += byte\n",
    "    return res\n",
    "\n",
    "def byte_to_string(m):\n",
    "    return ''.join(chr(int(m[i*8:i*8+8],2)) for i in range(len(m)//8))"
   ]
  },
  {
   "cell_type": "code",
   "execution_count": null,
   "metadata": {},
   "outputs": [],
   "source": [
    "# Demonstration\n",
    "m = 'abcdefg'\n",
    "print(\"String: %s; Length: %s\" % (m, len(m)))\n",
    "m1 = pad_string(m, len_T, PAD)\n",
    "print(\"Padded String: %s; Length: %s\" % (m1, len(m1)))\n",
    "m2 = string_to_byte(m1, nbytes)\n",
    "print(\"Byte Sequence: %s; Length: %s\" % (m2, len(m2)))\n",
    "m3 = byte_to_binary(m2, len_T, nbytes)\n",
    "print(\"Binary Sequence: %s\" % (m3))\n",
    "m4 = binary_to_byte(m3, nbytes)\n",
    "print(\"Byte Sequence: %s\" % (m4))\n",
    "m5 = byte_to_string(m4)\n",
    "print(\"Reconstructed String: %s\" % (m5))"
   ]
  }
 ],
 "metadata": {
  "language_info": {
   "name": "python"
  },
  "orig_nbformat": 4
 },
 "nbformat": 4,
 "nbformat_minor": 2
}
