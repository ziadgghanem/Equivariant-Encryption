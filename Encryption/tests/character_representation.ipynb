{
 "cells": [
  {
   "cell_type": "code",
   "execution_count": 1,
   "metadata": {},
   "outputs": [],
   "source": [
    "import numpy as np"
   ]
  },
  {
   "cell_type": "code",
   "execution_count": 2,
   "metadata": {},
   "outputs": [],
   "source": [
    "m = 'this is my message'\n",
    "with open('readme.txt', 'w') as f:\n",
    "    f.write(m)"
   ]
  },
  {
   "cell_type": "code",
   "execution_count": 71,
   "metadata": {},
   "outputs": [],
   "source": [
    "import binascii\n",
    "\n",
    "def to_hex(t, nbytes =2):\n",
    "    \"Format text t as a sequence of nbyte long values separated by spaces.\"\n",
    "    res = bytes(t, 'utf-8')\n",
    "    chars_per_item = nbytes * 2\n",
    "    hex_version = binascii.hexlify(res)\n",
    "    num_chunks = len(hex_version) / chars_per_item\n",
    "    encoding = []\n",
    "    for start in range(0, len(hex_version), chars_per_item):\n",
    "        encoding.append(hex_version[start:start + chars_per_item])\n",
    "    return [int(e) for e in encoding]"
   ]
  },
  {
   "cell_type": "code",
   "execution_count": 4,
   "metadata": {},
   "outputs": [],
   "source": [
    "def to_hstr(t, nbytes =2):\n",
    "    res = [str(e).encode('utf-8') for e in hex]\n",
    "    chars_per_item = nbytes * 2\n",
    "    chars_per_item\n",
    "    str_version = [binascii.unhexlify(e) for e in res]\n",
    "    res = [e.decode('utf-8') for e in str_version]\n",
    "    return \"\".join(res)\n"
   ]
  },
  {
   "cell_type": "code",
   "execution_count": 7,
   "metadata": {},
   "outputs": [
    {
     "data": {
      "text/plain": [
       "array([6162, 6364, 6566,   67])"
      ]
     },
     "execution_count": 7,
     "metadata": {},
     "output_type": "execute_result"
    }
   ],
   "source": [
    "hex = to_hex('abcdefg')\n",
    "hex1 = np.asarray(hex)\n",
    "hex1"
   ]
  },
  {
   "cell_type": "code",
   "execution_count": 14,
   "metadata": {},
   "outputs": [
    {
     "name": "stdout",
     "output_type": "stream",
     "text": [
      "000\n"
     ]
    }
   ],
   "source": [
    "m = 'abcdefghi'\n",
    "len_T = 7\n",
    "len(m) % 16\n",
    "pad = '0'*(len_T - len(m) % 5)\n",
    "print(pad)"
   ]
  },
  {
   "cell_type": "code",
   "execution_count": null,
   "metadata": {},
   "outputs": [],
   "source": [
    "def pad_input(m, len_T = 10):\n",
    "    pad = '0'*(len_T - len(m) % 5)\n",
    "    return"
   ]
  },
  {
   "cell_type": "code",
   "execution_count": 10,
   "metadata": {},
   "outputs": [],
   "source": [
    "def to_byte(m, nbytes =2):\n",
    "    #convert string to binary sequence\n",
    "    #print(bin_version)\n",
    "    return ''.join(format(ord(i), '08b') for i in m)"
   ]
  },
  {
   "cell_type": "code",
   "execution_count": 84,
   "metadata": {},
   "outputs": [],
   "source": [
    "def encode_msg(m, len_T = 10, nbytes = 2):\n",
    "    #seperate binary sequence into list of 'chunks' of length 'bits_per_coefficient'\n",
    "    bits_per_coefficient = nbytes * 2\n",
    "    res = []\n",
    "    for start in range(0, len(m), bits_per_coefficient):\n",
    "        res.append(m[start:start + bits_per_coefficient])\n",
    "    res = [bin(int(e,2)) for e in res]\n",
    "    #seperate chunks into lists of length 'len_T'\n",
    "    res = [res[i:i + len_T] for i in range(0, len(res), len_T)]\n",
    "    # possibly, the final list will need to be padded\n",
    "    # we choose Pad = 2 as it is not a binary number\n",
    "    pad = -1\n",
    "    pad_list = [pad]*len_T\n",
    "    # we pad from the end of the list for efficacy\n",
    "    pad_list[-len(res[-1]):] = res[-1]\n",
    "    res[-1] = pad_list\n",
    "    return res"
   ]
  },
  {
   "cell_type": "code",
   "execution_count": 85,
   "metadata": {},
   "outputs": [
    {
     "name": "stdout",
     "output_type": "stream",
     "text": [
      "011000010110001001100011011001000110010101100110011001110110100001101001\n",
      "[['0b110', '0b1', '0b110', '0b10', '0b110', '0b11', '0b110', '0b100', '0b110', '0b101'], [-1, -1, '0b110', '0b110', '0b110', '0b111', '0b110', '0b1000', '0b110', '0b1001']]\n",
      "[['0b110', '0b1', '0b110', '0b10', '0b110', '0b11', '0b110', '0b100', '0b110', '0b101'], ['0b1001', '0b110', '0b1000', '0b110', '0b111', '0b110', '0b110', '0b110', -1, -1]]\n",
      "['0b110', '0b1', '0b110', '0b10', '0b110', '0b11', '0b110', '0b100', '0b110', '0b101', '0b1001', '0b110', '0b1000', '0b110', '0b111', '0b110', '0b110', '0b110', -1, -1]\n",
      "['0b110', '0b1', '0b110', '0b10', '0b110', '0b11', '0b110', '0b100', '0b110', '0b101', '0b1001', '0b110', '0b1000', '0b110', '0b111', '0b110', '0b110', '0b110', '-1', '-1']\n"
     ]
    }
   ],
   "source": [
    "m = 'abcdefghi'\n",
    "nbytes = 2\n",
    "m1 = encode_msg(m)\n",
    "print(m1)\n",
    "if len(m1) > 1:\n",
    "    m1[-1].reverse()\n",
    "print(m1)\n",
    "m2 = []\n",
    "for i in range(len(m1)):\n",
    "    m2 += m1[i]\n",
    "print(m2)\n",
    "m3 = list(map(str, m2))\n",
    "print(m3)\n"
   ]
  },
  {
   "cell_type": "code",
   "execution_count": 73,
   "metadata": {},
   "outputs": [
    {
     "data": {
      "text/plain": [
       "'01100001'"
      ]
     },
     "execution_count": 73,
     "metadata": {},
     "output_type": "execute_result"
    }
   ],
   "source": [
    "m3[0].zfill(nbytes*2) + m3[1].zfill(nbytes*2)"
   ]
  },
  {
   "cell_type": "code",
   "execution_count": 86,
   "metadata": {},
   "outputs": [
    {
     "data": {
      "text/plain": [
       "'\\U0010c8e1'"
      ]
     },
     "execution_count": 86,
     "metadata": {},
     "output_type": "execute_result"
    }
   ],
   "source": [
    "chr(1100001)"
   ]
  },
  {
   "cell_type": "code",
   "execution_count": null,
   "metadata": {},
   "outputs": [],
   "source": [
    "res = bytes(m, 'utf-8')\n",
    "chars_per_item = nbytes * 2\n",
    "hex_version = binascii.hexlify(res)\n",
    "num_chunks = len(hex_version) / chars_per_item\n",
    "###################################################\n",
    "encoding = []\n",
    "for start in range(0, len(hex_version), chars_per_item):\n",
    "    encoding.append(hex_version[start:start + chars_per_item])\n",
    "encoding = np.asarray([int(e) for e in encoding])\n",
    "msg_utf = np.asarray([bytearray(m,'utf-8')[i] for i in range(len(bytearray(m,'utf-8')))])\n",
    "msg_utf.resize(len_T, refcheck = False)"
   ]
  }
 ],
 "metadata": {
  "kernelspec": {
   "display_name": "Python 3.8.8 ('base')",
   "language": "python",
   "name": "python3"
  },
  "language_info": {
   "codemirror_mode": {
    "name": "ipython",
    "version": 3
   },
   "file_extension": ".py",
   "mimetype": "text/x-python",
   "name": "python",
   "nbconvert_exporter": "python",
   "pygments_lexer": "ipython3",
   "version": "3.8.8"
  },
  "orig_nbformat": 4,
  "vscode": {
   "interpreter": {
    "hash": "bb38ba4e813f735698b935dc80e7db08ebd90d12ce9a90d24b2a53bbd027fc6c"
   }
  }
 },
 "nbformat": 4,
 "nbformat_minor": 2
}
