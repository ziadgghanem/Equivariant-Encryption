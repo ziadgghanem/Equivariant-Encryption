{
 "cells": [
  {
   "cell_type": "code",
   "execution_count": 1,
   "metadata": {},
   "outputs": [],
   "source": [
    "import numpy as np"
   ]
  },
  {
   "cell_type": "code",
   "execution_count": 2,
   "metadata": {},
   "outputs": [],
   "source": [
    "def pad_string(m, len_T = 10):\n",
    "    pad = '0'*(len_T - len(m) % len_T)\n",
    "    return m + pad"
   ]
  },
  {
   "cell_type": "code",
   "execution_count": 3,
   "metadata": {},
   "outputs": [],
   "source": [
    "def string_to_byte(m, nbytes =2):\n",
    "    #convert string to binary sequence\n",
    "    #print(bin_version)\n",
    "    return ''.join(format(ord(i), '08b') for i in m)"
   ]
  },
  {
   "cell_type": "code",
   "execution_count": 4,
   "metadata": {},
   "outputs": [],
   "source": [
    "def format_byte_sequence(m, len_T = 10, nbytes = 2):\n",
    "    #seperate binary sequence into list of 'chunks' of length 'bits_per_coefficient'\n",
    "    bits_per_coefficient = nbytes * 2\n",
    "    res = []\n",
    "    for start in range(0, len(m), bits_per_coefficient):\n",
    "        res.append(m[start:start + bits_per_coefficient])\n",
    "    res = [bin(int(e,2)) for e in res]\n",
    "    #seperate chunks into lists of length 'len_T'\n",
    "    res = [res[i:i + len_T] for i in range(0, len(res), len_T)]\n",
    "    # possibly, the final list will need to be padded\n",
    "    # we choose Pad = 2 as it is not a binary number\n",
    "    pad = -1\n",
    "    pad_list = [pad]*len_T\n",
    "    # we pad from the end of the list for efficacy\n",
    "    pad_list[-len(res[-1]):] = res[-1]\n",
    "    res[-1] = pad_list\n",
    "    return res"
   ]
  },
  {
   "cell_type": "code",
   "execution_count": 8,
   "metadata": {},
   "outputs": [
    {
     "name": "stdout",
     "output_type": "stream",
     "text": [
      "String: abcdefg, Length: 7\n",
      "Padded String: abcdefg000, Length: 10\n",
      "Byte Sequence: 01100001011000100110001101100100011001010110011001100111001100000011000000110000, Length: 80\n"
     ]
    }
   ],
   "source": [
    "m = 'abcdefg'\n",
    "print(\"String: %s; Length: %s\" % (m, len(m)))\n",
    "m1 = pad_string(m)\n",
    "print(\"Padded String: %s; Length: %s\" % (m1, len(m1)))\n",
    "m2 = string_to_byte(m1)\n",
    "print(\"Byte Sequence: %s; Length: %s\" % (m2, len(m2)))\n"
   ]
  },
  {
   "cell_type": "code",
   "execution_count": null,
   "metadata": {},
   "outputs": [],
   "source": [
    "res = bytes(m, 'utf-8')\n",
    "chars_per_item = nbytes * 2\n",
    "hex_version = binascii.hexlify(res)\n",
    "num_chunks = len(hex_version) / chars_per_item\n",
    "###################################################\n",
    "encoding = []\n",
    "for start in range(0, len(hex_version), chars_per_item):\n",
    "    encoding.append(hex_version[start:start + chars_per_item])\n",
    "encoding = np.asarray([int(e) for e in encoding])\n",
    "msg_utf = np.asarray([bytearray(m,'utf-8')[i] for i in range(len(bytearray(m,'utf-8')))])\n",
    "msg_utf.resize(len_T, refcheck = False)"
   ]
  },
  {
   "cell_type": "markdown",
   "metadata": {},
   "source": [
    "Other Tests:"
   ]
  },
  {
   "cell_type": "code",
   "execution_count": null,
   "metadata": {},
   "outputs": [],
   "source": [
    "import binascii\n",
    "\n",
    "def to_hex(t, nbytes =2):\n",
    "    \"Format text t as a sequence of nbyte long values separated by spaces.\"\n",
    "    res = bytes(t, 'utf-8')\n",
    "    chars_per_item = nbytes * 2\n",
    "    hex_version = binascii.hexlify(res)\n",
    "    num_chunks = len(hex_version) / chars_per_item\n",
    "    encoding = []\n",
    "    for start in range(0, len(hex_version), chars_per_item):\n",
    "        encoding.append(hex_version[start:start + chars_per_item])\n",
    "    return [int(e) for e in encoding]\n",
    "\n",
    "def to_hstr(t, nbytes =2):\n",
    "    res = [str(e).encode('utf-8') for e in hex]\n",
    "    chars_per_item = nbytes * 2\n",
    "    chars_per_item\n",
    "    str_version = [binascii.unhexlify(e) for e in res]\n",
    "    res = [e.decode('utf-8') for e in str_version]\n",
    "    return \"\".join(res)\n",
    "    \n",
    "hex = to_hex('abcdefg')\n",
    "hex1 = np.asarray(hex)\n",
    "hex1"
   ]
  },
  {
   "cell_type": "code",
   "execution_count": null,
   "metadata": {},
   "outputs": [],
   "source": [
    "m = 'this is my message'\n",
    "with open('readme.txt', 'w') as f:\n",
    "    f.write(m)"
   ]
  }
 ],
 "metadata": {
  "kernelspec": {
   "display_name": "Python 3.8.8 ('base')",
   "language": "python",
   "name": "python3"
  },
  "language_info": {
   "codemirror_mode": {
    "name": "ipython",
    "version": 3
   },
   "file_extension": ".py",
   "mimetype": "text/x-python",
   "name": "python",
   "nbconvert_exporter": "python",
   "pygments_lexer": "ipython3",
   "version": "3.8.8"
  },
  "orig_nbformat": 4,
  "vscode": {
   "interpreter": {
    "hash": "bb38ba4e813f735698b935dc80e7db08ebd90d12ce9a90d24b2a53bbd027fc6c"
   }
  }
 },
 "nbformat": 4,
 "nbformat_minor": 2
}
