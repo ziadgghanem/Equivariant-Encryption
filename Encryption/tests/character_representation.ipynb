{
 "cells": [
  {
   "cell_type": "code",
   "execution_count": 1,
   "metadata": {},
   "outputs": [],
   "source": [
    "import numpy as np"
   ]
  },
  {
   "cell_type": "code",
   "execution_count": 69,
   "metadata": {},
   "outputs": [],
   "source": [
    "m = 'this is my message'\n",
    "with open('readme.txt', 'w') as f:\n",
    "    f.write(m)"
   ]
  },
  {
   "cell_type": "code",
   "execution_count": 70,
   "metadata": {},
   "outputs": [
    {
     "data": {
      "text/plain": [
       "'this is my message'"
      ]
     },
     "execution_count": 70,
     "metadata": {},
     "output_type": "execute_result"
    }
   ],
   "source": [
    "with open('readme.txt') as f:\n",
    "    lines = f.readlines()\n",
    "lines[0]"
   ]
  },
  {
   "cell_type": "code",
   "execution_count": 71,
   "metadata": {},
   "outputs": [],
   "source": [
    "import binascii\n",
    "\n",
    "def to_hex(t, nbytes =2):\n",
    "    \"Format text t as a sequence of nbyte long values separated by spaces.\"\n",
    "    res = bytes(t, 'utf-8')\n",
    "    chars_per_item = nbytes * 2\n",
    "    hex_version = binascii.hexlify(res)\n",
    "    num_chunks = len(hex_version) / chars_per_item\n",
    "    encoding = []\n",
    "    for start in range(0, len(hex_version), chars_per_item):\n",
    "        encoding.append(hex_version[start:start + chars_per_item])\n",
    "    return [int(e) for e in encoding]"
   ]
  },
  {
   "cell_type": "code",
   "execution_count": 4,
   "metadata": {},
   "outputs": [],
   "source": [
    "def to_hstr(t, nbytes =2):\n",
    "    res = [str(e).encode('utf-8') for e in hex]\n",
    "    chars_per_item = nbytes * 2\n",
    "    chars_per_item\n",
    "    str_version = [binascii.unhexlify(e) for e in res]\n",
    "    res = [e.decode('utf-8') for e in str_version]\n",
    "    return \"\".join(res)\n"
   ]
  },
  {
   "cell_type": "code",
   "execution_count": 7,
   "metadata": {},
   "outputs": [
    {
     "data": {
      "text/plain": [
       "array([6162, 6364, 6566,   67])"
      ]
     },
     "execution_count": 7,
     "metadata": {},
     "output_type": "execute_result"
    }
   ],
   "source": [
    "hex = to_hex('abcdefg')\n",
    "hex1 = np.asarray(hex)\n",
    "hex1"
   ]
  },
  {
   "cell_type": "code",
   "execution_count": 10,
   "metadata": {},
   "outputs": [],
   "source": [
    "def to_byte(m, nbytes =2):\n",
    "    chars_per_item = nbytes * 2\n",
    "    bin_version = ''.join(format(ord(i), '08b') for i in m)\n",
    "    num_chunks = len(bin_version) / chars_per_item\n",
    "    res = []\n",
    "    for start in range(0, len(bin_version), chars_per_item):\n",
    "        res.append(bin_version[start:start + chars_per_item])\n",
    "    return [int(e) for e in res]"
   ]
  },
  {
   "cell_type": "code",
   "execution_count": 83,
   "metadata": {},
   "outputs": [],
   "source": [
    "def to_bytestr(m, nbytes =2):\n",
    "    return ''.join(chr(int(m[i*8:i*8+8]),2) for i in range(len(m)//8))"
   ]
  },
  {
   "cell_type": "code",
   "execution_count": 76,
   "metadata": {},
   "outputs": [],
   "source": [
    "def encode_msg(m, len_T = 10, nbytes = 2):\n",
    "    bits_per_item = nbytes * 2\n",
    "    #convert string to binary sequence\n",
    "    bin_version = ''.join(format(ord(i), '08b') for i in m)\n",
    "    print(bin_version)\n",
    "    #seperate binary sequence into list of 'chunks' of length 'bits_per_item'\n",
    "    #len_bin = len(bin_version)\n",
    "    res = []\n",
    "    for start in range(0, len(bin_version), bits_per_item):\n",
    "        res.append(bin_version[start:start + bits_per_item])\n",
    "    res = [int(e) for e in res]\n",
    "    #seperate chunks into lists of length 'len_T'\n",
    "    res = [res[i:i + len_T] for i in range(0, len(res), len_T)]\n",
    "    # possibly, the final list will need to be padded\n",
    "    # we choose Pad = 2 as it is not a binary number\n",
    "    pad = 2\n",
    "    pad_list = [pad]*len_T\n",
    "    # we pad from the end of the list for efficacy\n",
    "    pad_list[-len(res[-1]):] = res[-1]\n",
    "    res[-1] = pad_list\n",
    "    return res"
   ]
  },
  {
   "cell_type": "code",
   "execution_count": 77,
   "metadata": {},
   "outputs": [
    {
     "name": "stdout",
     "output_type": "stream",
     "text": [
      "011000010110001001100011011001000110010101100110011001110110100001101001\n",
      "[[110, 1, 110, 10, 110, 11, 110, 100, 110, 101], [2, 2, 110, 110, 110, 111, 110, 1000, 110, 1001]]\n",
      "[[110, 1, 110, 10, 110, 11, 110, 100, 110, 101], [1001, 110, 1000, 110, 111, 110, 110, 110, 2, 2]]\n",
      "[110, 1, 110, 10, 110, 11, 110, 100, 110, 101, 1001, 110, 1000, 110, 111, 110, 110, 110, 2, 2]\n",
      "['110', '1', '110', '10', '110', '11', '110', '100', '110', '101', '1001', '110', '1000', '110', '111', '110', '110', '110', '2', '2']\n",
      "011000010110001001100011011001000110010110010110100001100111011001100110\n"
     ]
    }
   ],
   "source": [
    "m = 'abcdefghi'\n",
    "nbytes = 2\n",
    "m1 = encode_msg(m)\n",
    "print(m1)\n",
    "if len(m1) > 1:\n",
    "    m1[-1].reverse()\n",
    "print(m1)\n",
    "m2 = []\n",
    "for i in range(len(m1)):\n",
    "    m2 += m1[i]\n",
    "print(m2)\n",
    "m3 = list(map(str, m2))\n",
    "print(m3)\n",
    "m4 = \"\"\n",
    "for i in range(len(m3)):\n",
    "    if m3[i] == '2':\n",
    "        break\n",
    "    else:\n",
    "        m4 += m3[i].zfill(nbytes*2)\n",
    "    \n",
    "print(m4)\n"
   ]
  },
  {
   "cell_type": "code",
   "execution_count": 73,
   "metadata": {},
   "outputs": [
    {
     "data": {
      "text/plain": [
       "'01100001'"
      ]
     },
     "execution_count": 73,
     "metadata": {},
     "output_type": "execute_result"
    }
   ],
   "source": [
    "m3[0].zfill(nbytes*2) + m3[1].zfill(nbytes*2)"
   ]
  },
  {
   "cell_type": "code",
   "execution_count": 86,
   "metadata": {},
   "outputs": [
    {
     "data": {
      "text/plain": [
       "'\\U0010c8e1'"
      ]
     },
     "execution_count": 86,
     "metadata": {},
     "output_type": "execute_result"
    }
   ],
   "source": [
    "chr(1100001)"
   ]
  },
  {
   "cell_type": "code",
   "execution_count": null,
   "metadata": {},
   "outputs": [],
   "source": [
    "res = bytes(m, 'utf-8')\n",
    "chars_per_item = nbytes * 2\n",
    "hex_version = binascii.hexlify(res)\n",
    "num_chunks = len(hex_version) / chars_per_item\n",
    "###################################################\n",
    "encoding = []\n",
    "for start in range(0, len(hex_version), chars_per_item):\n",
    "    encoding.append(hex_version[start:start + chars_per_item])\n",
    "encoding = np.asarray([int(e) for e in encoding])\n",
    "msg_utf = np.asarray([bytearray(m,'utf-8')[i] for i in range(len(bytearray(m,'utf-8')))])\n",
    "msg_utf.resize(len_T, refcheck = False)"
   ]
  }
 ],
 "metadata": {
  "kernelspec": {
   "display_name": "Python 3.8.8 ('base')",
   "language": "python",
   "name": "python3"
  },
  "language_info": {
   "codemirror_mode": {
    "name": "ipython",
    "version": 3
   },
   "file_extension": ".py",
   "mimetype": "text/x-python",
   "name": "python",
   "nbconvert_exporter": "python",
   "pygments_lexer": "ipython3",
   "version": "3.8.8"
  },
  "orig_nbformat": 4,
  "vscode": {
   "interpreter": {
    "hash": "bb38ba4e813f735698b935dc80e7db08ebd90d12ce9a90d24b2a53bbd027fc6c"
   }
  }
 },
 "nbformat": 4,
 "nbformat_minor": 2
}
