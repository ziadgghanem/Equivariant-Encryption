{
 "cells": [
  {
   "cell_type": "code",
   "execution_count": 1,
   "metadata": {},
   "outputs": [],
   "source": [
    "import numpy as np\n",
    "import json\n",
    "import os"
   ]
  },
  {
   "cell_type": "code",
   "execution_count": 3,
   "metadata": {},
   "outputs": [
    {
     "name": "stdout",
     "output_type": "stream",
     "text": [
      "Number of conjugacy classes: 33\n",
      "Number of multipliers: 9\n"
     ]
    }
   ],
   "source": [
    "# read multiplication table file\n",
    "# Windows infile\n",
    "#infile = [np.asarray(json.loads(line)) for line in open(os.path.abspath(os.pardir) + '\\z2_s4_001.json', 'r')]\n",
    "# OS infile\n",
    "infile = [np.asarray(json.loads(line)) for line in open(os.path.abspath(os.pardir) + '/z2_s4_001.json', 'r')]\n",
    "mixer_index = infile[0]\n",
    "M = infile[1] #multipliers\n",
    "T = infile[2] #multiplication table\n",
    "\n",
    "assert T.shape[0] == T.shape[1] == T.shape[2]\n",
    "len_T = T.shape[0]\n",
    "print(\"Number of conjugacy classes: {}\" .format(len_T))\n",
    "\n",
    "\n",
    "assert M.shape[1] == len_T\n",
    "len_M = M.shape[0]\n",
    "print(\"Number of multipliers: {}\" .format(len_M))\n",
    "\n",
    "#print(\"Multiplier Indices: {}\" .format(M))"
   ]
  },
  {
   "cell_type": "code",
   "execution_count": 4,
   "metadata": {},
   "outputs": [
    {
     "name": "stdout",
     "output_type": "stream",
     "text": [
      "[[ 0  0  0  0  0  0  0  0  0  0  0  0  0  0  0  0  0  0  0  0  0  0  0  0\n",
      "   0  0  0  0  0 -1  0  0  1]\n",
      " [ 0  0  0  0  0  0  0  0  0  0  0  0  0  0  0  0  0  0  0  0  0  0  0  0\n",
      "   0  0  0  0  0  0  0 -1  1]\n",
      " [ 0  0  0  0  0  0  0  0  0  0  0  0  0  0  0  0  0  0  0  0  0  0  0  0\n",
      "   0  0  0  0  0  0 -1  0  1]\n",
      " [ 0  0  0  0  0  0  0  0  1  0  0  0  0  0  0  0  0  0  0 -1 -1  0  0  0\n",
      "   0  0  0  0  0  0  0  0  1]\n",
      " [ 0  0  0  0  0  0  0  0  0  0  0  0  0  0  0  0  0  0  0  0  0  0  0  0\n",
      "   1  0  0  0 -2  0  0  0  1]\n",
      " [-1  0  0  1  2  0  0  0  0  0  0  0  0  0  0 -1 -1  0  0  0  0  0 -1  0\n",
      "   0  0  0  0  0  0  0  0  1]\n",
      " [ 0  1  0  0  0  0  0  0  0  0  0  0  0 -1  0  0  0  0 -1  0  0 -1  0  0\n",
      "   0  0  0  0  0  0  0  0  1]\n",
      " [-1  0  0  1  0  2  0  0  0  0  0  0  0  0  0 -1  0 -1  0  0  0  0  0  0\n",
      "   0 -1  0  0  0  0  0  0  1]\n",
      " [ 0 -1  0  0  0  0  0  0  0  0  0  0  0  3  0  0  0  0  0  0  0  0  0 -1\n",
      "   0  0  0 -2  0  0  0  0  1]]\n"
     ]
    }
   ],
   "source": [
    "print(M)"
   ]
  },
  {
   "cell_type": "code",
   "execution_count": 5,
   "metadata": {},
   "outputs": [],
   "source": [
    "# Convert multplication table from 3D array of integers to 3D list of bin\n",
    "def array_to_list(X):\n",
    "    return X.tolist()\n",
    "\n",
    "M = M.astype(int).tolist()\n",
    "T = T.astype(int)"
   ]
  },
  {
   "cell_type": "code",
   "execution_count": 6,
   "metadata": {},
   "outputs": [],
   "source": [
    "nbytes = 2\n",
    "PAD = '0'\n",
    "\n",
    "def pad_string(m, len_T, PAD):\n",
    "    pad_length = (len_T - len(m) % len_T)\n",
    "    pad = PAD*pad_length\n",
    "    return m + pad, pad_length\n",
    "\n",
    "def string_to_byte_sequence(m, nbytes):\n",
    "    #convert string to binary sequence\n",
    "    #print(bin_version)\n",
    "    return ''.join(format(ord(i), '08b') for i in m)\n",
    "\n",
    "def byte_sequence_chunk(m, nbytes):\n",
    "    #seperate byte sequence into list of 'chunks' of length 'bits_per_coefficient'\n",
    "    bits_per_coefficient = nbytes * 2\n",
    "    res = []\n",
    "    for start in range(0, len(m), bits_per_coefficient):\n",
    "        res.append(m[start:start + bits_per_coefficient])\n",
    "    return res\n",
    "\n",
    "def byte_sequence_to_binary_sequence(m):\n",
    "    #interpret each byte chunk as binary integer \n",
    "    return [int(e,2) for e in m]\n",
    "\n",
    "def binary_block_sequence(m, len_T):\n",
    "    #seperate chunks into blocks of length 'len_T'\n",
    "    return [m[i:i + len_T] for i in range(0, len(m), len_T)]\n",
    "\n",
    "def binary_block_sequence_to_byte_sequence(m, nbytes):\n",
    "    res = ''\n",
    "    chunk_size = nbytes*2\n",
    "    for i in range(len(m)):\n",
    "        for j in range(len(m[i])):\n",
    "            byte = str(bin(m[i][j])[2:].zfill(chunk_size))\n",
    "            res += byte\n",
    "    return res\n",
    "\n",
    "def byte_to_pad_string(m):\n",
    "    return ''.join(chr(int(m[i*8:i*8+8],2)) for i in range(len(m)//8))\n",
    "\n",
    "def unpad_string(m, pad_length):\n",
    "    return m[:len(m)-pad_length]\n",
    "    "
   ]
  },
  {
   "cell_type": "code",
   "execution_count": 7,
   "metadata": {},
   "outputs": [],
   "source": [
    "def string_to_bring(m, len_T, nbytes = 2, PAD = '0'):\n",
    "    m1, pad_length = pad_string(m, len_T, PAD)\n",
    "    m2 = string_to_byte_sequence(m1, nbytes)\n",
    "    m3 = byte_sequence_chunk(m2, nbytes)\n",
    "    m4 = byte_sequence_to_binary_sequence(m3)\n",
    "    m5 = binary_block_sequence(m4, len_T)\n",
    "    return m5, pad_length\n",
    "\n",
    "def bring_to_string(m, len_T, pad_length, nbytes = 2, PAD = '0'):\n",
    "    m1 = binary_block_sequence_to_byte_sequence(m, nbytes)\n",
    "    m2 = byte_to_pad_string(m1)\n",
    "    m3 = unpad_string(m2, pad_length)\n",
    "    return m3"
   ]
  },
  {
   "cell_type": "code",
   "execution_count": 8,
   "metadata": {},
   "outputs": [
    {
     "name": "stdout",
     "output_type": "stream",
     "text": [
      "String: abcdefg; Length: 7\n",
      "Padded String: abcdefg00000000000000000000000000; Length: 33\n",
      "Pad Length: 26\n",
      "Byte Sequence: 011000010110001001100011011001000110010101100110011001110011000000110000001100000011000000110000001100000011000000110000001100000011000000110000001100000011000000110000001100000011000000110000001100000011000000110000001100000011000000110000001100000011000000110000; Length: 264\n",
      "Byte Sequence Chunks: ['0110', '0001', '0110', '0010', '0110', '0011', '0110', '0100', '0110', '0101', '0110', '0110', '0110', '0111', '0011', '0000', '0011', '0000', '0011', '0000', '0011', '0000', '0011', '0000', '0011', '0000', '0011', '0000', '0011', '0000', '0011', '0000', '0011', '0000', '0011', '0000', '0011', '0000', '0011', '0000', '0011', '0000', '0011', '0000', '0011', '0000', '0011', '0000', '0011', '0000', '0011', '0000', '0011', '0000', '0011', '0000', '0011', '0000', '0011', '0000', '0011', '0000', '0011', '0000', '0011', '0000']\n",
      "Binary Sequence: [6, 1, 6, 2, 6, 3, 6, 4, 6, 5, 6, 6, 6, 7, 3, 0, 3, 0, 3, 0, 3, 0, 3, 0, 3, 0, 3, 0, 3, 0, 3, 0, 3, 0, 3, 0, 3, 0, 3, 0, 3, 0, 3, 0, 3, 0, 3, 0, 3, 0, 3, 0, 3, 0, 3, 0, 3, 0, 3, 0, 3, 0, 3, 0, 3, 0]\n",
      "Binary Sequence Blocks: [[6, 1, 6, 2, 6, 3, 6, 4, 6, 5, 6, 6, 6, 7, 3, 0, 3, 0, 3, 0, 3, 0, 3, 0, 3, 0, 3, 0, 3, 0, 3, 0, 3], [0, 3, 0, 3, 0, 3, 0, 3, 0, 3, 0, 3, 0, 3, 0, 3, 0, 3, 0, 3, 0, 3, 0, 3, 0, 3, 0, 3, 0, 3, 0, 3, 0]]\n",
      "Byte Sequence: 011000010110001001100011011001000110010101100110011001110011000000110000001100000011000000110000001100000011000000110000001100000011000000110000001100000011000000110000001100000011000000110000001100000011000000110000001100000011000000110000001100000011000000110000; Length: 264\n",
      "Reconstructed Padded String: abcdefg00000000000000000000000000\n",
      "Reconstructed String: abcdefg\n"
     ]
    }
   ],
   "source": [
    "# Demonstration\n",
    "m = 'abcdefg'\n",
    "print(\"String: %s; Length: %s\" % (m, len(m)))\n",
    "m1, pad_length = pad_string(m, len_T, PAD)\n",
    "print(\"Padded String: %s; Length: %s\" % (m1, len(m1)))\n",
    "print(\"Pad Length: %s\" % (pad_length))\n",
    "m2 = string_to_byte_sequence(m1, nbytes)\n",
    "print(\"Byte Sequence: %s; Length: %s\" % (m2, len(m2)))\n",
    "m3 = byte_sequence_chunk(m2, nbytes)\n",
    "print(\"Byte Sequence Chunks: %s\" % (m3))\n",
    "m4 = byte_sequence_to_binary_sequence(m3)\n",
    "print(\"Binary Sequence: %s\" % (m4))\n",
    "m5 = binary_block_sequence(m4, len_T)\n",
    "print(\"Binary Sequence Blocks: %s\" % (m5))\n",
    "m6 = binary_block_sequence_to_byte_sequence(m5, nbytes)\n",
    "print(\"Byte Sequence: %s; Length: %s\" % (m6, len(m6)))\n",
    "m7 = byte_to_pad_string(m6)\n",
    "print(\"Reconstructed Padded String: %s\" % (m7))\n",
    "m8 = unpad_string(m7, pad_length)\n",
    "print(\"Reconstructed String: %s\" % (m8))"
   ]
  },
  {
   "cell_type": "code",
   "execution_count": 10,
   "metadata": {},
   "outputs": [],
   "source": [
    "def brmult_list(T, L, sel = \"none\"):\n",
    "    #L: ring elements to be multiplied\n",
    "    #T: multiplication table\n",
    "    if sel == \"none\":\n",
    "        pass\n",
    "    else:\n",
    "        L = L[sel,:]\n",
    "        \n",
    "    for l in L:\n",
    "        if l == L[0]: # initialize product\n",
    "            chi = l\n",
    "        else:\n",
    "            temp = np.zeros(len(l))\n",
    "            for i in range(len(l)):\n",
    "                for j in range(len(l)):\n",
    "                    # chi[i]*l[j] is the appropriate coefficient\n",
    "                    # T[i][j] is the appropriate ring element\n",
    "                    temp+= chi[i]*l[j]*T[i][j]\n",
    "            chi = temp\n",
    "            #print(\"-------------------------------------------------------------\")\n",
    "            #print(chi) \n",
    "    return chi.astype(int).tolist()"
   ]
  },
  {
   "cell_type": "code",
   "execution_count": 18,
   "metadata": {},
   "outputs": [
    {
     "name": "stdout",
     "output_type": "stream",
     "text": [
      "[[4, 12, 6, 15, 7, 2, 6, 5, 6, 13, 2, 0, 6, 9, 7, 0, 7, 3, 7, 5, 6, 13, 2, 0, 6, 4, 6, 15, 6, 12, 6, 15, 7], [2, 2, 0, 7, 3, 6, 9, 7, 4, 2, 0, 6, 1, 6, 13, 6, 5, 7, 4, 2, 12, 2, 0, 6, 3, 6, 15, 6, 14, 7, 3, 6, 5], [6, 3, 7, 4, 6, 5, 7, 4, 7, 5, 7, 2, 2, 0, 6, 1, 6, 4, 6, 9, 7, 0, 6, 9, 7, 3, 6, 3, 6, 9, 6, 14, 6], [7, 2, 0, 6, 5, 6, 12, 6, 9, 7, 4, 2, 12, 2, 0, 7, 3, 6, 5, 6, 4, 2, 0, 6, 4, 6, 15, 2, 0, 6, 5, 6, 9], [7, 5, 7, 3, 6, 13, 6, 15, 6, 4, 2, 0, 7, 4, 6, 5, 6, 13, 7, 0, 6, 15, 7, 2, 2, 0, 6, 9, 6, 14, 6, 3, 6], [9, 6, 4, 6, 9, 6, 4, 7, 5, 6, 14, 7, 4, 2, 0, 7, 5, 7, 4, 2, 0, 6, 12, 6, 1, 6, 2, 6, 15, 7, 2, 6, 5], [2, 0, 6, 5, 7, 4, 2, 0, 6, 4, 6, 15, 6, 12, 6, 15, 7, 2, 6, 5, 2, 0, 6, 13, 6, 1, 6, 7, 6, 14, 6, 1, 2], [0, 6, 1, 6, 12, 6, 9, 7, 1, 7, 5, 6, 1, 2, 14, 2, 0, 5, 5, 7, 4, 2, 0, 6, 5, 6, 14, 6, 9, 6, 13, 2, 0], [6, 1, 6, 4, 2, 0, 6, 13, 6, 9, 6, 14, 6, 9, 6, 13, 2, 0, 7, 6, 6, 5, 6, 14, 6, 9, 6, 1, 6, 13, 2, 12, 2], [0, 7, 1, 7, 5, 6, 9, 7, 3, 2, 0, 6, 14, 6, 15, 7, 3, 7, 4, 7, 2, 7, 5, 6, 4, 2, 0, 6, 5, 7, 8, 6, 5], [7, 2, 6, 3, 6, 9, 7, 4, 6, 1, 7, 4, 6, 9, 6, 15, 6, 14, 2, 0, 7, 5, 6, 12, 6, 12, 6, 1, 6, 13, 6, 3, 6], [15, 2, 0, 6, 12, 6, 1, 6, 2, 6, 15, 7, 2, 6, 9, 7, 3, 2, 0, 6, 14, 6, 9, 7, 3, 6, 9, 2, 0, 7, 5, 7, 4], [2, 0, 6, 1, 6, 12, 6, 9, 7, 1, 7, 5, 6, 9, 7, 0, 2, 0, 6, 5, 7, 8, 2, 0, 6, 5, 6, 1, 2, 0, 6, 3, 6], [15, 6, 13, 6, 13, 6, 15, 6, 4, 6, 15, 2, 0, 6, 3, 6, 15, 6, 14, 7, 3, 6, 5, 7, 1, 7, 5, 6, 1, 7, 4, 2, 14], [2, 0, 4, 4, 7, 5, 6, 9, 7, 3, 2, 0, 6, 1, 7, 5, 7, 4, 6, 5, 2, 0, 6, 9, 7, 2, 7, 5, 7, 2, 6, 5, 2], [0, 6, 4, 6, 15, 6, 12, 6, 15, 7, 2, 2, 0, 6, 9, 6, 14, 2, 0, 7, 2, 6, 5, 7, 0, 7, 2, 6, 5, 6, 8, 6, 5], [6, 14, 6, 4, 6, 5, 7, 2, 6, 9, 7, 4, 2, 0, 6, 9, 6, 14, 2, 0, 7, 6, 6, 15, 6, 12, 7, 5, 7, 0, 7, 4, 6], [1, 7, 4, 6, 5, 2, 0, 7, 6, 6, 5, 6, 12, 6, 9, 7, 4, 2, 0, 6, 5, 7, 3, 7, 3, 6, 5, 2, 0, 6, 3, 6, 9], [6, 12, 6, 12, 7, 5, 6, 13, 2, 0, 6, 4, 6, 15, 6, 12, 6, 15, 7, 2, 6, 5, 2, 0, 6, 5, 7, 5, 2, 0, 6, 6, 7], [5, 6, 7, 6, 9, 6, 1, 7, 4, 2, 0, 6, 14, 7, 5, 6, 12, 6, 12, 6, 1, 2, 0, 7, 0, 6, 1, 7, 2, 6, 9, 6, 1], [7, 4, 7, 5, 3, 0, 3, 0, 3, 0, 3, 0, 3, 0, 3, 0, 3, 0, 3, 0, 3, 0, 3, 0, 3, 0, 3, 0, 3, 0, 3, 0, 3], [0, 3, 0, 3, 0, 3, 0, 3, 0, 3, 0, 3, 0, 3, 0, 3, 0, 3, 0, 3, 0, 3, 0, 3, 0, 3, 0, 3, 0, 3, 0, 3, 0]]\n"
     ]
    }
   ],
   "source": [
    "msg = 'Lorem ipsum dolor sit amet, consectetur adipiscing elit, sed do eiusmod tempor incididunt ut labore et dolore magna aliqua. Ut enim ad minim veniam, quis nostrud exercitation ullamco laboris nisi ut aliquip ex ea commodo consequat. Duis aute irure dolor in reprehenderit in voluptate velit esse cillum dolore eu fugiat nulla pariatu'\n",
    "bring_msg, pad_length = string_to_bring(msg, len_T)\n",
    "print(bring_msg)"
   ]
  },
  {
   "cell_type": "code",
   "execution_count": 19,
   "metadata": {},
   "outputs": [
    {
     "name": "stdout",
     "output_type": "stream",
     "text": [
      "[1, -1, 2, 0, -1, -1, -1, -1, -1, -1, -1, -1, -1, 2, -1, 0, 1, 1, 1, 1, 1, 1, 1, 1, 1, 1, 1, -2, -2, -1, -1, -1, 1]\n"
     ]
    }
   ],
   "source": [
    "multiplier = brmult_list(T,M)\n",
    "print(multiplier)"
   ]
  },
  {
   "cell_type": "code",
   "execution_count": 20,
   "metadata": {},
   "outputs": [],
   "source": [
    "def bring_encryption(T,multiplier,m):\n",
    "    #T: Multiplication table\n",
    "    #multiplier: multiplier element in bring\n",
    "    #m: bring representation of msg\n",
    "    return [brmult_list(T,[e,multiplier]) for e in bring_msg]"
   ]
  },
  {
   "cell_type": "code",
   "execution_count": 21,
   "metadata": {},
   "outputs": [
    {
     "name": "stdout",
     "output_type": "stream",
     "text": [
      "[[4, 12, 6, 15, 7, 2, 6, 5, 6, 13, 2, 0, 6, 9, 7, 0, 7, 3, 7, 5, 6, 13, 2, 0, 6, 4, 6, 15, 6, 12, 6, 15, 7], [2, 2, 0, 7, 3, 6, 9, 7, 4, 2, 0, 6, 1, 6, 13, 6, 5, 7, 4, 2, 12, 2, 0, 6, 3, 6, 15, 6, 14, 7, 3, 6, 5], [6, 3, 7, 4, 6, 5, 7, 4, 7, 5, 7, 2, 2, 0, 6, 1, 6, 4, 6, 9, 7, 0, 6, 9, 7, 3, 6, 3, 6, 9, 6, 14, 6], [7, 2, 0, 6, 5, 6, 12, 6, 9, 7, 4, 2, 12, 2, 0, 7, 3, 6, 5, 6, 4, 2, 0, 6, 4, 6, 15, 2, 0, 6, 5, 6, 9], [7, 5, 7, 3, 6, 13, 6, 15, 6, 4, 2, 0, 7, 4, 6, 5, 6, 13, 7, 0, 6, 15, 7, 2, 2, 0, 6, 9, 6, 14, 6, 3, 6], [9, 6, 4, 6, 9, 6, 4, 7, 5, 6, 14, 7, 4, 2, 0, 7, 5, 7, 4, 2, 0, 6, 12, 6, 1, 6, 2, 6, 15, 7, 2, 6, 5], [2, 0, 6, 5, 7, 4, 2, 0, 6, 4, 6, 15, 6, 12, 6, 15, 7, 2, 6, 5, 2, 0, 6, 13, 6, 1, 6, 7, 6, 14, 6, 1, 2], [0, 6, 1, 6, 12, 6, 9, 7, 1, 7, 5, 6, 1, 2, 14, 2, 0, 5, 5, 7, 4, 2, 0, 6, 5, 6, 14, 6, 9, 6, 13, 2, 0], [6, 1, 6, 4, 2, 0, 6, 13, 6, 9, 6, 14, 6, 9, 6, 13, 2, 0, 7, 6, 6, 5, 6, 14, 6, 9, 6, 1, 6, 13, 2, 12, 2], [0, 7, 1, 7, 5, 6, 9, 7, 3, 2, 0, 6, 14, 6, 15, 7, 3, 7, 4, 7, 2, 7, 5, 6, 4, 2, 0, 6, 5, 7, 8, 6, 5], [7, 2, 6, 3, 6, 9, 7, 4, 6, 1, 7, 4, 6, 9, 6, 15, 6, 14, 2, 0, 7, 5, 6, 12, 6, 12, 6, 1, 6, 13, 6, 3, 6], [15, 2, 0, 6, 12, 6, 1, 6, 2, 6, 15, 7, 2, 6, 9, 7, 3, 2, 0, 6, 14, 6, 9, 7, 3, 6, 9, 2, 0, 7, 5, 7, 4], [2, 0, 6, 1, 6, 12, 6, 9, 7, 1, 7, 5, 6, 9, 7, 0, 2, 0, 6, 5, 7, 8, 2, 0, 6, 5, 6, 1, 2, 0, 6, 3, 6], [15, 6, 13, 6, 13, 6, 15, 6, 4, 6, 15, 2, 0, 6, 3, 6, 15, 6, 14, 7, 3, 6, 5, 7, 1, 7, 5, 6, 1, 7, 4, 2, 14], [2, 0, 4, 4, 7, 5, 6, 9, 7, 3, 2, 0, 6, 1, 7, 5, 7, 4, 6, 5, 2, 0, 6, 9, 7, 2, 7, 5, 7, 2, 6, 5, 2], [0, 6, 4, 6, 15, 6, 12, 6, 15, 7, 2, 2, 0, 6, 9, 6, 14, 2, 0, 7, 2, 6, 5, 7, 0, 7, 2, 6, 5, 6, 8, 6, 5], [6, 14, 6, 4, 6, 5, 7, 2, 6, 9, 7, 4, 2, 0, 6, 9, 6, 14, 2, 0, 7, 6, 6, 15, 6, 12, 7, 5, 7, 0, 7, 4, 6], [1, 7, 4, 6, 5, 2, 0, 7, 6, 6, 5, 6, 12, 6, 9, 7, 4, 2, 0, 6, 5, 7, 3, 7, 3, 6, 5, 2, 0, 6, 3, 6, 9], [6, 12, 6, 12, 7, 5, 6, 13, 2, 0, 6, 4, 6, 15, 6, 12, 6, 15, 7, 2, 6, 5, 2, 0, 6, 5, 7, 5, 2, 0, 6, 6, 7], [5, 6, 7, 6, 9, 6, 1, 7, 4, 2, 0, 6, 14, 7, 5, 6, 12, 6, 12, 6, 1, 2, 0, 7, 0, 6, 1, 7, 2, 6, 9, 6, 1], [7, 4, 7, 5, 3, 0, 3, 0, 3, 0, 3, 0, 3, 0, 3, 0, 3, 0, 3, 0, 3, 0, 3, 0, 3, 0, 3, 0, 3, 0, 3, 0, 3], [0, 3, 0, 3, 0, 3, 0, 3, 0, 3, 0, 3, 0, 3, 0, 3, 0, 3, 0, 3, 0, 3, 0, 3, 0, 3, 0, 3, 0, 3, 0, 3, 0]]\n",
      "[[27, -43, 39, -15, -38, -33, -13, -31, -13, -32, -30, -15, -23, 53, -37, 0, 0, 4, 0, 2, 1, 26, 15, 13, 1, 17, 1, -29, -20, -19, -13, -22, 7], [21, -19, 52, -13, -26, -29, -14, -34, -9, -27, -21, -31, -32, 28, -40, 6, 0, -2, 1, 3, -7, 21, 19, 25, 2, 25, -10, -16, -24, -12, -8, -11, 5], [4, -12, 35, -5, -16, -15, -13, -25, -13, -26, -25, -29, -26, 18, -21, 1, 0, 2, 0, -3, -1, 12, 18, 21, -1, 15, 0, -15, -18, -15, -12, -20, 6], [13, -15, 32, -13, -25, -26, -21, -23, -18, -22, -15, -17, -33, 24, -17, 7, 6, 3, 4, 3, 5, 11, 9, 15, 5, 15, -6, -20, -18, -15, -14, -15, 9], [17, -24, 41, -8, -30, -37, -12, -44, -12, -23, -36, -21, -21, 34, -33, 5, 0, -7, -1, 6, 0, 27, 19, 14, 4, 12, 0, -21, -18, -20, -12, -9, 6], [11, -19, 66, -13, -29, -26, -9, -39, -10, -44, -52, -45, -36, 24, -32, 7, 0, -2, 1, 3, 5, 26, 32, 26, 4, 26, 3, -16, -25, -12, -7, -11, 5], [34, -21, 30, -20, -43, -40, -4, -21, -8, -19, -20, -42, -28, 30, -15, 15, -5, 0, -4, -3, 0, 8, 14, 21, -4, 9, -4, -11, -10, -16, -8, -3, 2], [10, -14, 31, -8, -22, -16, -9, -24, -1, -22, -16, -21, -22, 14, -31, 2, 0, -5, -5, -7, -4, 11, 9, 15, -5, 15, -14, -6, -9, -6, -13, -2, 0], [19, -13, 44, -17, -27, -25, -8, -40, -8, -32, -25, -42, -37, 15, -28, 13, 0, 2, -5, -4, -4, 13, 14, 22, -4, 17, -4, -5, -10, -15, -4, -14, 2], [24, -24, 39, -14, -29, -30, -14, -30, -8, -19, -22, -27, -32, 28, -34, 7, 2, -2, 1, -2, 3, 17, 15, 16, 1, 12, 5, -16, -15, -12, -13, -11, 5], [24, -18, 53, -18, -37, -40, -13, -33, -12, -31, -30, -34, -42, 23, -35, 15, 0, -8, 4, 6, -1, 17, 18, 24, 0, 24, 0, -13, -18, -19, -12, -9, 6], [4, -14, 36, -13, -31, -25, -5, -23, -6, -25, -34, -27, -19, 18, -25, 7, 1, 2, 4, -2, -10, 10, 13, 11, 1, 10, -5, -10, -8, -11, -9, -11, 4], [14, -16, 25, -1, -22, -28, -12, -25, -13, -16, -25, -15, -19, 23, -28, 0, 4, 6, 0, 1, -1, 16, 10, 8, 0, 13, 0, -13, -14, -6, -12, -9, 6], [17, -32, 42, -12, -45, -38, -29, -34, -18, -33, -41, -29, -29, 46, -31, 6, -1, 8, 0, 7, 11, 21, 20, 22, 13, 22, 9, -34, -29, -21, -18, -16, 14], [11, -8, 31, -9, -20, -18, -8, -27, -9, -20, -17, -24, -26, 15, -18, 5, -5, -2, -4, -3, 0, 9, 15, 18, -5, 11, -5, -9, -11, -4, -8, -7, 2], [23, -23, 41, -12, -38, -29, -17, -29, -20, -29, -23, -24, -24, 28, -32, 6, -9, 3, 5, -2, 3, 16, 15, 17, 5, 17, 3, -16, -15, -11, -13, -11, 5], [14, -25, 59, -13, -26, -25, -13, -36, -12, -40, -32, -38, -42, 22, -37, 9, 0, -8, 4, 6, -1, 19, 19, 28, 0, 25, -1, -17, -19, -6, -13, -10, 6], [23, -24, 37, -13, -29, -26, -9, -30, -15, -24, -24, -25, -34, 28, -31, 7, 5, 7, 9, 3, 4, 16, 12, 16, 6, 15, 4, -20, -18, -15, -12, -15, 9], [33, -39, 24, -24, -46, -44, -13, -27, -9, -16, -22, -15, -20, 39, -25, 12, 1, -8, 0, 5, 1, 14, 11, 9, 1, 14, 0, -19, -16, -7, -13, -13, 7], [16, -21, 14, -12, -30, -27, -2, -19, -5, -11, -5, -16, -30, 23, -16, 6, -11, -5, -11, -5, 0, 5, 3, 10, 1, 9, 0, -9, -4, -7, -10, -7, 1], [-4, -7, 8, -5, -6, -3, -6, -6, -6, -9, -12, -9, -9, 6, -9, 0, 0, 3, 0, 3, 0, 6, 9, 6, 0, 6, 0, -6, -9, -3, -6, -3, 3], [9, -9, 9, -6, -9, -12, 0, -9, 0, -6, -3, -6, -6, 9, -6, 3, 0, -3, 0, -3, 0, 3, 0, 3, 0, 3, 0, -3, 0, -3, 0, -3, 0]]\n"
     ]
    }
   ],
   "source": [
    "encrypted_bring_msg = bring_encryption(T, multiplier, bring_msg)\n",
    "print(bring_msg)\n",
    "print(encrypted_bring_msg)"
   ]
  },
  {
   "cell_type": "code",
   "execution_count": 22,
   "metadata": {},
   "outputs": [
    {
     "name": "stdout",
     "output_type": "stream",
     "text": [
      "[[4, 12, 6, 15, 7, 2, 6, 5, 6, 13, 2, 0, 6, 9, 7, 0, 7, 3, 7, 5, 6, 13, 2, 0, 6, 4, 6, 15, 6, 12, 6, 15, 7], [2, 2, 0, 7, 3, 6, 9, 7, 4, 2, 0, 6, 1, 6, 13, 6, 5, 7, 4, 2, 12, 2, 0, 6, 3, 6, 15, 6, 14, 7, 3, 6, 5], [6, 3, 7, 4, 6, 5, 7, 4, 7, 5, 7, 2, 2, 0, 6, 1, 6, 4, 6, 9, 7, 0, 6, 9, 7, 3, 6, 3, 6, 9, 6, 14, 6], [7, 2, 0, 6, 5, 6, 12, 6, 9, 7, 4, 2, 12, 2, 0, 7, 3, 6, 5, 6, 4, 2, 0, 6, 4, 6, 15, 2, 0, 6, 5, 6, 9], [7, 5, 7, 3, 6, 13, 6, 15, 6, 4, 2, 0, 7, 4, 6, 5, 6, 13, 7, 0, 6, 15, 7, 2, 2, 0, 6, 9, 6, 14, 6, 3, 6], [9, 6, 4, 6, 9, 6, 4, 7, 5, 6, 14, 7, 4, 2, 0, 7, 5, 7, 4, 2, 0, 6, 12, 6, 1, 6, 2, 6, 15, 7, 2, 6, 5], [2, 0, 6, 5, 7, 4, 2, 0, 6, 4, 6, 15, 6, 12, 6, 15, 7, 2, 6, 5, 2, 0, 6, 13, 6, 1, 6, 7, 6, 14, 6, 1, 2], [0, 6, 1, 6, 12, 6, 9, 7, 1, 7, 5, 6, 1, 2, 14, 2, 0, 5, 5, 7, 4, 2, 0, 6, 5, 6, 14, 6, 9, 6, 13, 2, 0], [6, 1, 6, 4, 2, 0, 6, 13, 6, 9, 6, 14, 6, 9, 6, 13, 2, 0, 7, 6, 6, 5, 6, 14, 6, 9, 6, 1, 6, 13, 2, 12, 2], [0, 7, 1, 7, 5, 6, 9, 7, 3, 2, 0, 6, 14, 6, 15, 7, 3, 7, 4, 7, 2, 7, 5, 6, 4, 2, 0, 6, 5, 7, 8, 6, 5], [7, 2, 6, 3, 6, 9, 7, 4, 6, 1, 7, 4, 6, 9, 6, 15, 6, 14, 2, 0, 7, 5, 6, 12, 6, 12, 6, 1, 6, 13, 6, 3, 6], [15, 2, 0, 6, 12, 6, 1, 6, 2, 6, 15, 7, 2, 6, 9, 7, 3, 2, 0, 6, 14, 6, 9, 7, 3, 6, 9, 2, 0, 7, 5, 7, 4], [2, 0, 6, 1, 6, 12, 6, 9, 7, 1, 7, 5, 6, 9, 7, 0, 2, 0, 6, 5, 7, 8, 2, 0, 6, 5, 6, 1, 2, 0, 6, 3, 6], [15, 6, 13, 6, 13, 6, 15, 6, 4, 6, 15, 2, 0, 6, 3, 6, 15, 6, 14, 7, 3, 6, 5, 7, 1, 7, 5, 6, 1, 7, 4, 2, 14], [2, 0, 4, 4, 7, 5, 6, 9, 7, 3, 2, 0, 6, 1, 7, 5, 7, 4, 6, 5, 2, 0, 6, 9, 7, 2, 7, 5, 7, 2, 6, 5, 2], [0, 6, 4, 6, 15, 6, 12, 6, 15, 7, 2, 2, 0, 6, 9, 6, 14, 2, 0, 7, 2, 6, 5, 7, 0, 7, 2, 6, 5, 6, 8, 6, 5], [6, 14, 6, 4, 6, 5, 7, 2, 6, 9, 7, 4, 2, 0, 6, 9, 6, 14, 2, 0, 7, 6, 6, 15, 6, 12, 7, 5, 7, 0, 7, 4, 6], [1, 7, 4, 6, 5, 2, 0, 7, 6, 6, 5, 6, 12, 6, 9, 7, 4, 2, 0, 6, 5, 7, 3, 7, 3, 6, 5, 2, 0, 6, 3, 6, 9], [6, 12, 6, 12, 7, 5, 6, 13, 2, 0, 6, 4, 6, 15, 6, 12, 6, 15, 7, 2, 6, 5, 2, 0, 6, 5, 7, 5, 2, 0, 6, 6, 7], [5, 6, 7, 6, 9, 6, 1, 7, 4, 2, 0, 6, 14, 7, 5, 6, 12, 6, 12, 6, 1, 2, 0, 7, 0, 6, 1, 7, 2, 6, 9, 6, 1], [7, 4, 7, 5, 3, 0, 3, 0, 3, 0, 3, 0, 3, 0, 3, 0, 3, 0, 3, 0, 3, 0, 3, 0, 3, 0, 3, 0, 3, 0, 3, 0, 3], [0, 3, 0, 3, 0, 3, 0, 3, 0, 3, 0, 3, 0, 3, 0, 3, 0, 3, 0, 3, 0, 3, 0, 3, 0, 3, 0, 3, 0, 3, 0, 3, 0]]\n"
     ]
    }
   ],
   "source": [
    "decrypted_bring_msg = [brmult_list(T,[e,multiplier]) for e in encrypted_bring_msg]\n",
    "print(decrypted_bring_msg)\n"
   ]
  },
  {
   "cell_type": "code",
   "execution_count": 23,
   "metadata": {},
   "outputs": [
    {
     "name": "stdout",
     "output_type": "stream",
     "text": [
      "Lorem ipsum dolor sit amet, consectetur adipiscing elit, sed do eiusmod tempor incididunt ut labore et dolore magna aliqua. Ut enim ad minim veniam, quis nostrud exercitation ullamco laboris nisi ut aliquip ex ea commodo consequat. Duis aute irure dolor in reprehenderit in voluptate velit esse cillum dolore eu fugiat nulla pariatu\n"
     ]
    }
   ],
   "source": [
    "reconstructed_msg = bring_to_string(decrypted_bring_msg, len_T, pad_length)\n",
    "print(reconstructed_msg)"
   ]
  }
 ],
 "metadata": {
  "kernelspec": {
   "display_name": "Python 3.8.8 ('base')",
   "language": "python",
   "name": "python3"
  },
  "language_info": {
   "codemirror_mode": {
    "name": "ipython",
    "version": 3
   },
   "file_extension": ".py",
   "mimetype": "text/x-python",
   "name": "python",
   "nbconvert_exporter": "python",
   "pygments_lexer": "ipython3",
   "version": "3.9.12"
  },
  "orig_nbformat": 4,
  "vscode": {
   "interpreter": {
    "hash": "bb38ba4e813f735698b935dc80e7db08ebd90d12ce9a90d24b2a53bbd027fc6c"
   }
  }
 },
 "nbformat": 4,
 "nbformat_minor": 2
}
