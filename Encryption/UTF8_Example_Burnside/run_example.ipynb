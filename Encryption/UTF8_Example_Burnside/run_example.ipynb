{
 "cells": [
  {
   "cell_type": "code",
   "execution_count": 1,
   "metadata": {},
   "outputs": [],
   "source": [
    "import numpy as np\n",
    "import json\n",
    "import os"
   ]
  },
  {
   "cell_type": "code",
   "execution_count": 2,
   "metadata": {},
   "outputs": [
    {
     "name": "stdout",
     "output_type": "stream",
     "text": [
      "Number of conjugacy classes: 33\n",
      "Number of multipliers: 9\n"
     ]
    }
   ],
   "source": [
    "# read multiplication table file\n",
    "infile = [np.asarray(json.loads(line)) for line in open(os.path.abspath(os.pardir) + '/z2_s4_001.json', 'r')]\n",
    "#infile = [np.asarray(json.loads(line)) for line in open(os.path.abspath(os.pardir) + '\\z2_s4_001.json', 'r')]\n",
    "\n",
    "mixer_index = infile[0]\n",
    "M = infile[1] #multipliers\n",
    "T = infile[2] #multiplication table\n",
    "\n",
    "assert T.shape[0] == T.shape[1] == T.shape[2]\n",
    "len_T = T.shape[0]\n",
    "print(\"Number of conjugacy classes: {}\" .format(len_T))\n",
    "\n",
    "\n",
    "assert M.shape[1] == len_T\n",
    "len_M = M.shape[0]\n",
    "print(\"Number of multipliers: {}\" .format(len_M))\n",
    "\n",
    "#print(\"Multiplier Indices: {}\" .format(M))"
   ]
  },
  {
   "cell_type": "code",
<<<<<<< Updated upstream
   "execution_count": 3,
=======
   "execution_count": 10,
>>>>>>> Stashed changes
   "metadata": {},
   "outputs": [],
   "source": [
    "def set_mixer(mixer_index, len_T, phrase):\n",
    "    '''ba = bitarray.bitarray()\n",
    "    a.frombytes(m.encode('utf-8'))'''\n",
    "    mixer = np.zeros(len_T)\n",
    "    by = np.asarray(bytearray(phrase,'utf-8'))\n",
    "    mixer[-len(by):] = by\n",
    "    return mixer\n",
    "\n",
    "def encode_msg(m, len_T):\n",
    "    '''ba = bitarray.bitarray()\n",
    "    a.frombytes(m.encode('utf-8'))'''\n",
    "    msg_utf = np.asarray([bytearray(m,'utf-8')[i] for i in range(len(bytearray(m,'utf-8')))])\n",
    "    msg_utf.resize(len_T, refcheck = False)\n",
    "    return msg_utf"
   ]
  },
  {
   "cell_type": "code",
<<<<<<< Updated upstream
   "execution_count": 6,
=======
   "execution_count": 11,
>>>>>>> Stashed changes
   "metadata": {},
   "outputs": [],
   "source": [
    "def brmult_list(T, L, sel = \"none\"):\n",
    "    if sel == \"none\":\n",
    "        pass\n",
    "    else:\n",
    "        L = L[sel,:]\n",
    "        \n",
    "    for l in L:\n",
    "        if all(l == L[0]): # initialize product\n",
    "            chi = l\n",
    "        else:\n",
    "            temp = np.zeros(len(l))\n",
    "            for i in range(len(l)):\n",
    "                for j in range(len(l)):\n",
    "                    temp+= chi[i]*l[j]*T[i][j]\n",
    "            chi = temp\n",
    "            #print(\"-------------------------------------------------------------\")\n",
    "            #print(chi) \n",
    "    return chi"
   ]
  },
  {
   "cell_type": "code",
<<<<<<< Updated upstream
   "execution_count": 8,
=======
   "execution_count": 12,
>>>>>>> Stashed changes
   "metadata": {},
   "outputs": [
    {
     "name": "stdout",
     "output_type": "stream",
     "text": [
      "[ 97.  98.  99. 100. 101. 102. 103.   0.   0.   0.   0.   0.   0.   0.\n",
      "   0.   0.   0.   0.   0.   0.   0.   0.   0.   0.   0.   0.   0.  49.\n",
      "  50.  51.  53.  54.  55.]\n"
     ]
    }
   ],
   "source": [
    "msg = \"abcdefg\"\n",
    "msg_utf = encode_msg(msg, len_T) + set_mixer(mixer_index, len_T, \"123567\")\n",
    "print(msg_utf)"
   ]
  },
  {
   "cell_type": "code",
   "execution_count": 9,
   "metadata": {},
   "outputs": [
    {
     "name": "stdout",
     "output_type": "stream",
     "text": [
      "[   7. -202.  111. -100. -205. -206. -158. -105.  -55. -105. -105. -105.\n",
      " -105.  208. -105.    0.   55.   55.   55.   55.   55.  105.  105.  105.\n",
      "   55.  105.   55. -159. -160. -106. -108. -109.   55.]\n"
     ]
    }
   ],
   "source": [
    "multiplier = brmult_list(T,M)\n",
    "encryption = brmult_list(T,[msg_utf,multiplier])\n",
    "print(encryption)"
   ]
  },
  {
   "cell_type": "code",
   "execution_count": 10,
   "metadata": {},
   "outputs": [
    {
     "name": "stdout",
     "output_type": "stream",
     "text": [
      "[ 97.  98.  99. 100. 101. 102. 103.   0.   0.   0.   0.   0.   0.   0.\n",
      "   0.   0.   0.   0.   0.   0.   0.   0.   0.   0.   0.   0.   0.  49.\n",
      "  50.  51.  53.  54.  55.]\n"
     ]
    }
   ],
   "source": [
    "decrypt_utf = brmult_list(T,[encryption,multiplier])\n",
    "print(decrypt_utf)\n"
   ]
  },
  {
   "cell_type": "code",
   "execution_count": 14,
   "metadata": {},
   "outputs": [
    {
     "name": "stdout",
     "output_type": "stream",
     "text": [
      "['a', 'b', 'c', 'd', 'e', 'f', 'g', '\\x00', '\\x00', '\\x00', '\\x00', '\\x00', '\\x00', '\\x00', '\\x00', '\\x00', '\\x00', '\\x00', '\\x00', '\\x00', '\\x00', '\\x00', '\\x00', '\\x00', '\\x00', '\\x00', '\\x00', '1', '2', '3', '5', '6', '7']\n"
     ]
    }
   ],
   "source": [
    "decrypt_string = [chr(int(e)) for e in decrypt_utf]\n",
    "print(decrypt_string)\n",
    "#chr(int(decrypt_utf[0]))\n",
    "#np.char.decode(np.string_(decrypt_utf),'utf-8')"
   ]
  },
  {
   "cell_type": "code",
   "execution_count": null,
   "metadata": {},
   "outputs": [],
   "source": []
  }
 ],
 "metadata": {
  "kernelspec": {
   "display_name": "Python 3.8.8 ('base')",
   "language": "python",
   "name": "python3"
  },
  "language_info": {
   "codemirror_mode": {
    "name": "ipython",
    "version": 3
   },
   "file_extension": ".py",
   "mimetype": "text/x-python",
   "name": "python",
   "nbconvert_exporter": "python",
   "pygments_lexer": "ipython3",
<<<<<<< Updated upstream
   "version": "3.8.8"
=======
   "version": "3.9.12"
>>>>>>> Stashed changes
  },
  "orig_nbformat": 4,
  "vscode": {
   "interpreter": {
    "hash": "bb38ba4e813f735698b935dc80e7db08ebd90d12ce9a90d24b2a53bbd027fc6c"
   }
  }
 },
 "nbformat": 4,
 "nbformat_minor": 2
}
