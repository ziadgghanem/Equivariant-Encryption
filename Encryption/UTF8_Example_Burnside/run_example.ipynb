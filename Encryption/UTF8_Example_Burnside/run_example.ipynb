{
 "cells": [
  {
   "cell_type": "code",
   "execution_count": 2,
   "metadata": {},
   "outputs": [],
   "source": [
    "import numpy as np\n",
    "import json\n",
    "import os"
   ]
  },
  {
   "cell_type": "code",
   "execution_count": 3,
   "metadata": {},
   "outputs": [
    {
     "name": "stdout",
     "output_type": "stream",
     "text": [
      "Number of conjugacy classes: 33\n",
      "Number of multipliers: 9\n"
     ]
    }
   ],
   "source": [
    "# read multiplication table file\n",
    "infile = [np.asarray(json.loads(line)) for line in open(os.path.abspath(os.pardir) + '\\z2_s4_001.json', 'r')]\n",
    "mixer_index = infile[0]\n",
    "M = infile[1] #multipliers\n",
    "T = infile[2] #multiplication table\n",
    "\n",
    "assert T.shape[0] == T.shape[1] == T.shape[2]\n",
    "len_T = T.shape[0]\n",
    "print(\"Number of conjugacy classes: {}\" .format(len_T))\n",
    "\n",
    "\n",
    "assert M.shape[1] == len_T\n",
    "len_M = M.shape[0]\n",
    "print(\"Number of multipliers: {}\" .format(len_M))\n",
    "\n",
    "#print(\"Multiplier Indices: {}\" .format(M))"
   ]
  },
  {
   "cell_type": "code",
   "execution_count": 4,
   "metadata": {},
   "outputs": [],
   "source": [
    "def set_mixer(mixer_index, len_T, phrase):\n",
    "    '''ba = bitarray.bitarray()\n",
    "    a.frombytes(m.encode('utf-8'))'''\n",
    "    mixer = np.zeros(len_T)\n",
    "    by = np.asarray(bytearray(phrase,'utf-8'))\n",
    "    mixer[-len(by):] = by\n",
    "    return mixer\n",
    "\n",
    "def encode_msg(m, len_T):\n",
    "    '''ba = bitarray.bitarray()\n",
    "    a.frombytes(m.encode('utf-8'))'''\n",
    "    msg_utf = np.asarray([bytearray(m,'utf-8')[i] for i in range(len(bytearray(m,'utf-8')))])\n",
    "    msg_utf.resize(len_T, refcheck = False)\n",
    "    return msg_utf"
   ]
  },
  {
   "cell_type": "code",
   "execution_count": 5,
   "metadata": {},
   "outputs": [],
   "source": [
    "def brmult_list(T, L, sel = \"none\"):\n",
    "    if sel == \"none\":\n",
    "        pass\n",
    "    else:\n",
    "        L = L[sel,:]\n",
    "        \n",
    "    for l in L:\n",
    "        if all(l == L[0]): # initialize product\n",
    "            chi = l\n",
    "        else:\n",
    "            temp = np.zeros(len(l))\n",
    "            for i in range(len(l)):\n",
    "                for j in range(len(l)):\n",
    "                    temp+= chi[i]*l[j]*T[i][j]\n",
    "            chi = temp\n",
    "            #print(\"-------------------------------------------------------------\")\n",
    "            #print(chi) \n",
    "    return chi"
   ]
  },
  {
   "cell_type": "code",
   "execution_count": 7,
   "metadata": {},
   "outputs": [
    {
     "name": "stdout",
     "output_type": "stream",
     "text": [
      "[109. 101. 115. 115.  97. 103. 101.   0.   0.   0.   0.   0.   0.   0.\n",
      "   0.   0.   0.   0.   0.   0.   0.   0.   0.   0.   0.   0.   0.  49.\n",
      "  50.  51.  53.  54.  55.]\n"
     ]
    }
   ],
   "source": [
    "msg = \"message\"\n",
    "msg_utf = encode_msg(msg, len_T) + set_mixer(mixer_index, len_T, \"123567\")\n",
    "print(msg_utf)"
   ]
  },
  {
   "cell_type": "code",
   "execution_count": 8,
   "metadata": {},
   "outputs": [
    {
     "name": "stdout",
     "output_type": "stream",
     "text": [
      "[  -5. -205.   95. -115. -201. -207. -156. -105.  -55. -105. -105. -105.\n",
      " -105.  208. -105.    0.   55.   55.   55.   55.   55.  105.  105.  105.\n",
      "   55.  105.   55. -159. -160. -106. -108. -109.   55.]\n"
     ]
    }
   ],
   "source": [
    "multiplier = brmult_list(T,M)\n",
    "encryption = brmult_list(T,[msg_utf,multiplier])\n",
    "print(encryption)"
   ]
  },
  {
   "cell_type": "code",
   "execution_count": 9,
   "metadata": {},
   "outputs": [
    {
     "name": "stdout",
     "output_type": "stream",
     "text": [
      "[109. 101. 115. 115.  97. 103. 101.   0.   0.   0.   0.   0.   0.   0.\n",
      "   0.   0.   0.   0.   0.   0.   0.   0.   0.   0.   0.   0.   0.  49.\n",
      "  50.  51.  53.  54.  55.]\n"
     ]
    },
    {
     "ename": "UnicodeDecodeError",
     "evalue": "'utf-8' codec can't decode byte 0xc0 in position 21: invalid start byte",
     "output_type": "error",
     "traceback": [
      "\u001b[1;31m---------------------------------------------------------------------------\u001b[0m",
      "\u001b[1;31mUnicodeDecodeError\u001b[0m                        Traceback (most recent call last)",
      "\u001b[1;32mc:\\Users\\fghanem.FADIGHANEM\\OneDrive - The University of Texas at Dallas\\Encryption\\UTF8_Example_Burnside\\run_example.ipynb Cell 7\u001b[0m in \u001b[0;36m<cell line: 3>\u001b[1;34m()\u001b[0m\n\u001b[0;32m      <a href='vscode-notebook-cell:/c%3A/Users/fghanem.FADIGHANEM/OneDrive%20-%20The%20University%20of%20Texas%20at%20Dallas/Encryption/UTF8_Example_Burnside/run_example.ipynb#X13sZmlsZQ%3D%3D?line=0'>1</a>\u001b[0m decrypt_utf \u001b[39m=\u001b[39m brmult_list(T,[encryption,multiplier])\n\u001b[0;32m      <a href='vscode-notebook-cell:/c%3A/Users/fghanem.FADIGHANEM/OneDrive%20-%20The%20University%20of%20Texas%20at%20Dallas/Encryption/UTF8_Example_Burnside/run_example.ipynb#X13sZmlsZQ%3D%3D?line=1'>2</a>\u001b[0m \u001b[39mprint\u001b[39m(decrypt_utf)\n\u001b[1;32m----> <a href='vscode-notebook-cell:/c%3A/Users/fghanem.FADIGHANEM/OneDrive%20-%20The%20University%20of%20Texas%20at%20Dallas/Encryption/UTF8_Example_Burnside/run_example.ipynb#X13sZmlsZQ%3D%3D?line=2'>3</a>\u001b[0m np\u001b[39m.\u001b[39;49mchar\u001b[39m.\u001b[39;49mdecode(np\u001b[39m.\u001b[39;49mstring_(decrypt_utf),\u001b[39m'\u001b[39;49m\u001b[39mutf-8\u001b[39;49m\u001b[39m'\u001b[39;49m)\n",
      "File \u001b[1;32m<__array_function__ internals>:180\u001b[0m, in \u001b[0;36mdecode\u001b[1;34m(*args, **kwargs)\u001b[0m\n",
      "File \u001b[1;32mc:\\Users\\fghanem.FADIGHANEM\\anaconda3\\envs\\Encryption\\lib\\site-packages\\numpy\\core\\defchararray.py:556\u001b[0m, in \u001b[0;36mdecode\u001b[1;34m(a, encoding, errors)\u001b[0m\n\u001b[0;32m    513\u001b[0m \u001b[39m@array_function_dispatch\u001b[39m(_code_dispatcher)\n\u001b[0;32m    514\u001b[0m \u001b[39mdef\u001b[39;00m \u001b[39mdecode\u001b[39m(a, encoding\u001b[39m=\u001b[39m\u001b[39mNone\u001b[39;00m, errors\u001b[39m=\u001b[39m\u001b[39mNone\u001b[39;00m):\n\u001b[0;32m    515\u001b[0m     \u001b[39m\"\"\"\u001b[39;00m\n\u001b[0;32m    516\u001b[0m \u001b[39m    Calls `str.decode` element-wise.\u001b[39;00m\n\u001b[0;32m    517\u001b[0m \n\u001b[1;32m   (...)\u001b[0m\n\u001b[0;32m    553\u001b[0m \n\u001b[0;32m    554\u001b[0m \u001b[39m    \"\"\"\u001b[39;00m\n\u001b[0;32m    555\u001b[0m     \u001b[39mreturn\u001b[39;00m _to_string_or_unicode_array(\n\u001b[1;32m--> 556\u001b[0m         _vec_string(a, object_, \u001b[39m'\u001b[39;49m\u001b[39mdecode\u001b[39;49m\u001b[39m'\u001b[39;49m, _clean_args(encoding, errors)))\n",
      "\u001b[1;31mUnicodeDecodeError\u001b[0m: 'utf-8' codec can't decode byte 0xc0 in position 21: invalid start byte"
     ]
    }
   ],
   "source": [
    "decrypt_utf = brmult_list(T,[encryption,multiplier])\n",
    "print(decrypt_utf)\n",
    "np.char.decode(np.string_(decrypt_utf),'utf-8')"
   ]
  }
 ],
 "metadata": {
  "kernelspec": {
   "display_name": "Python 3.8.13 ('Encryption')",
   "language": "python",
   "name": "python3"
  },
  "language_info": {
   "codemirror_mode": {
    "name": "ipython",
    "version": 3
   },
   "file_extension": ".py",
   "mimetype": "text/x-python",
   "name": "python",
   "nbconvert_exporter": "python",
   "pygments_lexer": "ipython3",
   "version": "3.8.13"
  },
  "orig_nbformat": 4,
  "vscode": {
   "interpreter": {
    "hash": "6df78a1f66113675fcc22006a213e36e90610912bb241b7fe3fc1ca4021c7f3f"
   }
  }
 },
 "nbformat": 4,
 "nbformat_minor": 2
}
