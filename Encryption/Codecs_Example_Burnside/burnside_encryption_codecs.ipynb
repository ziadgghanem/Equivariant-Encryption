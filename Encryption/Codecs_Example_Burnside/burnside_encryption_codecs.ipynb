{
 "cells": [
  {
   "cell_type": "code",
   "execution_count": 1,
   "id": "b1ee790f",
   "metadata": {},
   "outputs": [],
   "source": [
    "import numpy as np\n",
    "import json\n",
    "import codecs"
   ]
  },
  {
   "cell_type": "code",
   "execution_count": 3,
   "id": "b80c5dd1",
   "metadata": {},
   "outputs": [],
   "source": [
    "# read multiplication table file\n",
    "infile = [np.asarray(json.loads(line)) for line in open(os.path.abspath(os.pardir) + '\\z2_s4_001.json', 'r')]\n",
    "mixer_index = infile[0]\n",
    "M = infile[1] #multipliers\n",
    "T = infile[2] #multiplication table"
   ]
  },
  {
   "cell_type": "code",
   "execution_count": 4,
   "id": "e37c5acf",
   "metadata": {},
   "outputs": [
    {
     "name": "stdout",
     "output_type": "stream",
     "text": [
      "33\n"
     ]
    }
   ],
   "source": [
    "assert T.shape[0] == T.shape[1] == T.shape[2]\n",
    "len_T = T.shape[0]\n",
    "print(len_T)"
   ]
  },
  {
   "cell_type": "code",
   "execution_count": 5,
   "id": "1e84d9c1",
   "metadata": {},
   "outputs": [
    {
     "name": "stdout",
     "output_type": "stream",
     "text": [
      "9\n"
     ]
    }
   ],
   "source": [
    "assert M.shape[1] == len_T\n",
    "len_M = M.shape[0]\n",
    "print(len_M)"
   ]
  },
  {
   "cell_type": "code",
   "execution_count": 6,
   "id": "2a879567",
   "metadata": {},
   "outputs": [],
   "source": [
    "# for product of selection pass list ex: brmult_list(T,M,[0,1,2,3])\n",
    "def brmult_list(T, L, sel = \"none\"):\n",
    "    if sel == \"none\":\n",
    "        pass\n",
    "    else:\n",
    "        L = L[sel,:]\n",
    "        \n",
    "    for l in L:\n",
    "        if all(l == L[0]): # initialize product\n",
    "            chi = l\n",
    "        else:\n",
    "            temp = np.zeros(len(l))\n",
    "            for i in range(len(l)):\n",
    "                for j in range(len(l)):\n",
    "                    temp+= chi[i]*l[j]*T[i][j]\n",
    "            chi = temp\n",
    "            #print(\"-------------------------------------------------------------\")\n",
    "            #print(chi) \n",
    "    return chi"
   ]
  },
  {
   "cell_type": "code",
   "execution_count": 7,
   "id": "c5b67f89",
   "metadata": {},
   "outputs": [],
   "source": [
    "key = brmult_list(T, M,)\n",
    "mixer = np.array([0 for i in range(len(key))])"
   ]
  },
  {
   "cell_type": "code",
   "execution_count": 11,
   "id": "a1a83a48",
   "metadata": {},
   "outputs": [
    {
     "data": {
      "text/plain": [
       "b'message'"
      ]
     },
     "execution_count": 11,
     "metadata": {},
     "output_type": "execute_result"
    }
   ],
   "source": [
    "codecs.encode('message')"
   ]
  },
  {
   "cell_type": "code",
   "execution_count": 8,
   "id": "248fb9b3",
   "metadata": {},
   "outputs": [],
   "source": [
    "def set_mixer(mixer, mixer_index, phrase):\n",
    "    '''ba = bitarray.bitarray()\n",
    "    ba.frombytes(m.encode('utf-8'))'''\n",
    "    by = bytearray(phrase,'utf-8')\n",
    "    for i in range(len(mixer_index)):\n",
    "        mixer[mixer_index[i]] = by[i]\n",
    "    return mixer"
   ]
  },
  {
   "cell_type": "code",
   "execution_count": 9,
   "id": "0c2e5901",
   "metadata": {},
   "outputs": [],
   "source": [
    "def encode_msg(m,n):\n",
    "    '''ba = bitarray.bitarray()\n",
    "    ba.frombytes(m.encode('utf-8'))'''\n",
    "    msg1 = bytearray(m,'utf-8')\n",
    "    \n",
    "    msg = []\n",
    "    msg = np.array([0 for i in range(n)])\n",
    "    for i in range(len(msg1)):\n",
    "        msg[i]=msg1[i]\n",
    "    return msg"
   ]
  },
  {
   "cell_type": "code",
   "execution_count": 10,
   "id": "aee86052",
   "metadata": {},
   "outputs": [],
   "source": [
    "def brmult(T,msg,key):\n",
    "    \n",
    "    coeffs = np.array([0 for i in range(len(key))])\n",
    "    for k in range(len(key)):\n",
    "        for i in range(len(key)):\n",
    "            for j in range(len(msg)):  \n",
    "                coeffs[k]+=key[i]*msg[j]*T[i][j][k]\n",
    "    return coeffs"
   ]
  },
  {
   "cell_type": "code",
   "execution_count": 14,
   "id": "eebff092",
   "metadata": {},
   "outputs": [],
   "source": [
    "msg = encode_msg(\"test\",len(key)) + set_mixer(mixer,mixer_index,\"password\")"
   ]
  },
  {
   "cell_type": "code",
   "execution_count": 17,
   "id": "8ba98775",
   "metadata": {},
   "outputs": [
    {
     "data": {
      "text/plain": [
       "array([116, 101, 115, 116,   0,   0,   0,   0,   0,   0,   0,   0,   0,\n",
       "         0,   0,   0,   0,   0,   0,   0,   0,   0,   0,   0,   0,   0,\n",
       "         0,   0, 112,  97, 115, 115, 119])"
      ]
     },
     "execution_count": 17,
     "metadata": {},
     "output_type": "execute_result"
    }
   ],
   "source": [
    "msg"
   ]
  },
  {
   "cell_type": "code",
   "execution_count": 15,
   "id": "ba902de4",
   "metadata": {},
   "outputs": [],
   "source": [
    "crypt = brmult(T,msg,key)"
   ]
  },
  {
   "cell_type": "code",
   "execution_count": 16,
   "id": "edf401d3",
   "metadata": {},
   "outputs": [
    {
     "data": {
      "text/plain": [
       "array([   3, -220,  347, -116, -119, -119, -119, -231, -119, -231, -231,\n",
       "       -231, -231,  238, -231,    0,  119,  119,  119,  119,  119,  231,\n",
       "        231,  231,  119,  231,  119, -238, -350, -216, -234, -234,  119])"
      ]
     },
     "execution_count": 16,
     "metadata": {},
     "output_type": "execute_result"
    }
   ],
   "source": [
    "crypt"
   ]
  },
  {
   "cell_type": "code",
   "execution_count": 18,
   "id": "ecbb10a6",
   "metadata": {},
   "outputs": [],
   "source": [
    "decrypt = brmult(T,crypt,key)"
   ]
  },
  {
   "cell_type": "code",
   "execution_count": 19,
   "id": "cd49a859",
   "metadata": {},
   "outputs": [
    {
     "data": {
      "text/plain": [
       "array([116, 101, 115, 116,   0,   0,   0,   0,   0,   0,   0,   0,   0,\n",
       "         0,   0,   0,   0,   0,   0,   0,   0,   0,   0,   0,   0,   0,\n",
       "         0,   0, 112,  97, 115, 115, 119])"
      ]
     },
     "execution_count": 19,
     "metadata": {},
     "output_type": "execute_result"
    }
   ],
   "source": [
    "decrypt"
   ]
  },
  {
   "cell_type": "code",
   "execution_count": 24,
   "id": "9a25d63c",
   "metadata": {},
   "outputs": [
    {
     "data": {
      "text/plain": [
       "1257.434690152932"
      ]
     },
     "execution_count": 24,
     "metadata": {},
     "output_type": "execute_result"
    }
   ],
   "source": []
  },
  {
   "cell_type": "code",
   "execution_count": null,
   "id": "215012f4",
   "metadata": {},
   "outputs": [],
   "source": []
  }
 ],
 "metadata": {
  "kernelspec": {
   "display_name": "Python 3.8.8 ('base')",
   "language": "python",
   "name": "python3"
  },
  "language_info": {
   "codemirror_mode": {
    "name": "ipython",
    "version": 3
   },
   "file_extension": ".py",
   "mimetype": "text/x-python",
   "name": "python",
   "nbconvert_exporter": "python",
   "pygments_lexer": "ipython3",
   "version": "3.8.8"
  },
  "vscode": {
   "interpreter": {
    "hash": "bb38ba4e813f735698b935dc80e7db08ebd90d12ce9a90d24b2a53bbd027fc6c"
   }
  }
 },
 "nbformat": 4,
 "nbformat_minor": 5
}
